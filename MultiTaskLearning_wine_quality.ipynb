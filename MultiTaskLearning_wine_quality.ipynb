{
  "nbformat": 4,
  "nbformat_minor": 0,
  "metadata": {
    "colab": {
      "name": "MultiTaskLearning_wine_quality.ipynb",
      "provenance": [],
      "authorship_tag": "ABX9TyPZz4wNXzKtND2ZhsUJ2qwh",
      "include_colab_link": true
    },
    "kernelspec": {
      "name": "python3",
      "display_name": "Python 3"
    },
    "language_info": {
      "name": "python"
    }
  },
  "cells": [
    {
      "cell_type": "markdown",
      "metadata": {
        "id": "view-in-github",
        "colab_type": "text"
      },
      "source": [
        "<a href=\"https://colab.research.google.com/github/sm0602/MLnow_2.0/blob/main/MultiTaskLearning_wine_quality.ipynb\" target=\"_parent\"><img src=\"https://colab.research.google.com/assets/colab-badge.svg\" alt=\"Open In Colab\"/></a>"
      ]
    },
    {
      "cell_type": "code",
      "metadata": {
        "colab": {
          "base_uri": "https://localhost:8080/"
        },
        "id": "SjIvM6rnfWZt",
        "outputId": "6713c198-fb88-4a60-9d73-5d5eb502b8e1"
      },
      "source": [
        "from google.colab import drive\n",
        "drive.mount('/content/drive')"
      ],
      "execution_count": 1,
      "outputs": [
        {
          "output_type": "stream",
          "text": [
            "Mounted at /content/drive\n"
          ],
          "name": "stdout"
        }
      ]
    },
    {
      "cell_type": "code",
      "metadata": {
        "colab": {
          "base_uri": "https://localhost:8080/"
        },
        "id": "FoKzHkeKhGHH",
        "outputId": "5f9b1609-4269-4c0e-8641-b71f85f92ed2"
      },
      "source": [
        "cd '/content/drive/MyDrive/LiveCodeSession'"
      ],
      "execution_count": 2,
      "outputs": [
        {
          "output_type": "stream",
          "text": [
            "/content/drive/MyDrive/LiveCodeSession\n"
          ],
          "name": "stdout"
        }
      ]
    },
    {
      "cell_type": "code",
      "metadata": {
        "colab": {
          "base_uri": "https://localhost:8080/"
        },
        "id": "rAGnzE7Vnjx_",
        "outputId": "21f603a0-b9d8-4882-be3a-12afc1c2bd1a"
      },
      "source": [
        "ls"
      ],
      "execution_count": 3,
      "outputs": [
        {
          "output_type": "stream",
          "text": [
            "01_PerceptronTraining.ipynb           \u001b[0m\u001b[01;34mtitanic\u001b[0m/\n",
            "\u001b[01;34m02_EDA\u001b[0m/                               winequality-red.csv\n",
            "LogisticRegression.ipynb              winequality-white.csv\n",
            "MultiTaskLearning_wine_quality.ipynb  winequality-white.gsheet\n"
          ],
          "name": "stdout"
        }
      ]
    },
    {
      "cell_type": "markdown",
      "metadata": {
        "id": "asooTfpZZUB0"
      },
      "source": [
        "##Problem Statement:\n",
        "Model wine quality estimations as a regression problem and wine type detection as a binary classification problem. \n"
      ]
    },
    {
      "cell_type": "code",
      "metadata": {
        "id": "iqlgXjVsnl0R"
      },
      "source": [
        "import pandas as pd\n",
        "import numpy as np\n",
        "import tensorflow as tf\n",
        "from tensorflow import keras\n",
        "from tensorflow.keras.models import Model\n",
        "from tensorflow.keras.layers import Dense, Input\n",
        "import matplotlib.pyplot as plt\n",
        "from sklearn.model_selection import train_test_split\n",
        "from sklearn.metrics import confusion_matrix\n",
        "import itertools\n"
      ],
      "execution_count": 4,
      "outputs": []
    },
    {
      "cell_type": "code",
      "metadata": {
        "id": "R1sgYYrDnysc",
        "colab": {
          "base_uri": "https://localhost:8080/",
          "height": 221
        },
        "outputId": "7a36bb6f-d958-43b3-f8ad-1efe22218d5c"
      },
      "source": [
        "white_df = pd.read_csv('winequality-white.csv', sep=';')\n",
        "white_df.head()"
      ],
      "execution_count": 5,
      "outputs": [
        {
          "output_type": "execute_result",
          "data": {
            "text/html": [
              "<div>\n",
              "<style scoped>\n",
              "    .dataframe tbody tr th:only-of-type {\n",
              "        vertical-align: middle;\n",
              "    }\n",
              "\n",
              "    .dataframe tbody tr th {\n",
              "        vertical-align: top;\n",
              "    }\n",
              "\n",
              "    .dataframe thead th {\n",
              "        text-align: right;\n",
              "    }\n",
              "</style>\n",
              "<table border=\"1\" class=\"dataframe\">\n",
              "  <thead>\n",
              "    <tr style=\"text-align: right;\">\n",
              "      <th></th>\n",
              "      <th>fixed acidity</th>\n",
              "      <th>volatile acidity</th>\n",
              "      <th>citric acid</th>\n",
              "      <th>residual sugar</th>\n",
              "      <th>chlorides</th>\n",
              "      <th>free sulfur dioxide</th>\n",
              "      <th>total sulfur dioxide</th>\n",
              "      <th>density</th>\n",
              "      <th>pH</th>\n",
              "      <th>sulphates</th>\n",
              "      <th>alcohol</th>\n",
              "      <th>quality</th>\n",
              "    </tr>\n",
              "  </thead>\n",
              "  <tbody>\n",
              "    <tr>\n",
              "      <th>0</th>\n",
              "      <td>7.0</td>\n",
              "      <td>0.27</td>\n",
              "      <td>0.36</td>\n",
              "      <td>20.7</td>\n",
              "      <td>0.045</td>\n",
              "      <td>45.0</td>\n",
              "      <td>170.0</td>\n",
              "      <td>1.0010</td>\n",
              "      <td>3.00</td>\n",
              "      <td>0.45</td>\n",
              "      <td>8.8</td>\n",
              "      <td>6</td>\n",
              "    </tr>\n",
              "    <tr>\n",
              "      <th>1</th>\n",
              "      <td>6.3</td>\n",
              "      <td>0.30</td>\n",
              "      <td>0.34</td>\n",
              "      <td>1.6</td>\n",
              "      <td>0.049</td>\n",
              "      <td>14.0</td>\n",
              "      <td>132.0</td>\n",
              "      <td>0.9940</td>\n",
              "      <td>3.30</td>\n",
              "      <td>0.49</td>\n",
              "      <td>9.5</td>\n",
              "      <td>6</td>\n",
              "    </tr>\n",
              "    <tr>\n",
              "      <th>2</th>\n",
              "      <td>8.1</td>\n",
              "      <td>0.28</td>\n",
              "      <td>0.40</td>\n",
              "      <td>6.9</td>\n",
              "      <td>0.050</td>\n",
              "      <td>30.0</td>\n",
              "      <td>97.0</td>\n",
              "      <td>0.9951</td>\n",
              "      <td>3.26</td>\n",
              "      <td>0.44</td>\n",
              "      <td>10.1</td>\n",
              "      <td>6</td>\n",
              "    </tr>\n",
              "    <tr>\n",
              "      <th>3</th>\n",
              "      <td>7.2</td>\n",
              "      <td>0.23</td>\n",
              "      <td>0.32</td>\n",
              "      <td>8.5</td>\n",
              "      <td>0.058</td>\n",
              "      <td>47.0</td>\n",
              "      <td>186.0</td>\n",
              "      <td>0.9956</td>\n",
              "      <td>3.19</td>\n",
              "      <td>0.40</td>\n",
              "      <td>9.9</td>\n",
              "      <td>6</td>\n",
              "    </tr>\n",
              "    <tr>\n",
              "      <th>4</th>\n",
              "      <td>7.2</td>\n",
              "      <td>0.23</td>\n",
              "      <td>0.32</td>\n",
              "      <td>8.5</td>\n",
              "      <td>0.058</td>\n",
              "      <td>47.0</td>\n",
              "      <td>186.0</td>\n",
              "      <td>0.9956</td>\n",
              "      <td>3.19</td>\n",
              "      <td>0.40</td>\n",
              "      <td>9.9</td>\n",
              "      <td>6</td>\n",
              "    </tr>\n",
              "  </tbody>\n",
              "</table>\n",
              "</div>"
            ],
            "text/plain": [
              "   fixed acidity  volatile acidity  citric acid  ...  sulphates  alcohol  quality\n",
              "0            7.0              0.27         0.36  ...       0.45      8.8        6\n",
              "1            6.3              0.30         0.34  ...       0.49      9.5        6\n",
              "2            8.1              0.28         0.40  ...       0.44     10.1        6\n",
              "3            7.2              0.23         0.32  ...       0.40      9.9        6\n",
              "4            7.2              0.23         0.32  ...       0.40      9.9        6\n",
              "\n",
              "[5 rows x 12 columns]"
            ]
          },
          "metadata": {
            "tags": []
          },
          "execution_count": 5
        }
      ]
    },
    {
      "cell_type": "code",
      "metadata": {
        "colab": {
          "base_uri": "https://localhost:8080/",
          "height": 221
        },
        "id": "z32LJsIebmLH",
        "outputId": "f9c78473-7a77-4c49-e55d-9e38fa63ab72"
      },
      "source": [
        "white_df['is_red'] = 0\n",
        "white_df = white_df.drop_duplicates(keep='first')\n",
        "white_df.head()"
      ],
      "execution_count": 6,
      "outputs": [
        {
          "output_type": "execute_result",
          "data": {
            "text/html": [
              "<div>\n",
              "<style scoped>\n",
              "    .dataframe tbody tr th:only-of-type {\n",
              "        vertical-align: middle;\n",
              "    }\n",
              "\n",
              "    .dataframe tbody tr th {\n",
              "        vertical-align: top;\n",
              "    }\n",
              "\n",
              "    .dataframe thead th {\n",
              "        text-align: right;\n",
              "    }\n",
              "</style>\n",
              "<table border=\"1\" class=\"dataframe\">\n",
              "  <thead>\n",
              "    <tr style=\"text-align: right;\">\n",
              "      <th></th>\n",
              "      <th>fixed acidity</th>\n",
              "      <th>volatile acidity</th>\n",
              "      <th>citric acid</th>\n",
              "      <th>residual sugar</th>\n",
              "      <th>chlorides</th>\n",
              "      <th>free sulfur dioxide</th>\n",
              "      <th>total sulfur dioxide</th>\n",
              "      <th>density</th>\n",
              "      <th>pH</th>\n",
              "      <th>sulphates</th>\n",
              "      <th>alcohol</th>\n",
              "      <th>quality</th>\n",
              "      <th>is_red</th>\n",
              "    </tr>\n",
              "  </thead>\n",
              "  <tbody>\n",
              "    <tr>\n",
              "      <th>0</th>\n",
              "      <td>7.0</td>\n",
              "      <td>0.27</td>\n",
              "      <td>0.36</td>\n",
              "      <td>20.7</td>\n",
              "      <td>0.045</td>\n",
              "      <td>45.0</td>\n",
              "      <td>170.0</td>\n",
              "      <td>1.0010</td>\n",
              "      <td>3.00</td>\n",
              "      <td>0.45</td>\n",
              "      <td>8.8</td>\n",
              "      <td>6</td>\n",
              "      <td>0</td>\n",
              "    </tr>\n",
              "    <tr>\n",
              "      <th>1</th>\n",
              "      <td>6.3</td>\n",
              "      <td>0.30</td>\n",
              "      <td>0.34</td>\n",
              "      <td>1.6</td>\n",
              "      <td>0.049</td>\n",
              "      <td>14.0</td>\n",
              "      <td>132.0</td>\n",
              "      <td>0.9940</td>\n",
              "      <td>3.30</td>\n",
              "      <td>0.49</td>\n",
              "      <td>9.5</td>\n",
              "      <td>6</td>\n",
              "      <td>0</td>\n",
              "    </tr>\n",
              "    <tr>\n",
              "      <th>2</th>\n",
              "      <td>8.1</td>\n",
              "      <td>0.28</td>\n",
              "      <td>0.40</td>\n",
              "      <td>6.9</td>\n",
              "      <td>0.050</td>\n",
              "      <td>30.0</td>\n",
              "      <td>97.0</td>\n",
              "      <td>0.9951</td>\n",
              "      <td>3.26</td>\n",
              "      <td>0.44</td>\n",
              "      <td>10.1</td>\n",
              "      <td>6</td>\n",
              "      <td>0</td>\n",
              "    </tr>\n",
              "    <tr>\n",
              "      <th>3</th>\n",
              "      <td>7.2</td>\n",
              "      <td>0.23</td>\n",
              "      <td>0.32</td>\n",
              "      <td>8.5</td>\n",
              "      <td>0.058</td>\n",
              "      <td>47.0</td>\n",
              "      <td>186.0</td>\n",
              "      <td>0.9956</td>\n",
              "      <td>3.19</td>\n",
              "      <td>0.40</td>\n",
              "      <td>9.9</td>\n",
              "      <td>6</td>\n",
              "      <td>0</td>\n",
              "    </tr>\n",
              "    <tr>\n",
              "      <th>6</th>\n",
              "      <td>6.2</td>\n",
              "      <td>0.32</td>\n",
              "      <td>0.16</td>\n",
              "      <td>7.0</td>\n",
              "      <td>0.045</td>\n",
              "      <td>30.0</td>\n",
              "      <td>136.0</td>\n",
              "      <td>0.9949</td>\n",
              "      <td>3.18</td>\n",
              "      <td>0.47</td>\n",
              "      <td>9.6</td>\n",
              "      <td>6</td>\n",
              "      <td>0</td>\n",
              "    </tr>\n",
              "  </tbody>\n",
              "</table>\n",
              "</div>"
            ],
            "text/plain": [
              "   fixed acidity  volatile acidity  citric acid  ...  alcohol  quality  is_red\n",
              "0            7.0              0.27         0.36  ...      8.8        6       0\n",
              "1            6.3              0.30         0.34  ...      9.5        6       0\n",
              "2            8.1              0.28         0.40  ...     10.1        6       0\n",
              "3            7.2              0.23         0.32  ...      9.9        6       0\n",
              "6            6.2              0.32         0.16  ...      9.6        6       0\n",
              "\n",
              "[5 rows x 13 columns]"
            ]
          },
          "metadata": {
            "tags": []
          },
          "execution_count": 6
        }
      ]
    },
    {
      "cell_type": "code",
      "metadata": {
        "colab": {
          "base_uri": "https://localhost:8080/"
        },
        "id": "4KC3kWOvcbiv",
        "outputId": "2fe8b2c3-93ef-469b-e025-2a3079187170"
      },
      "source": [
        "white_df.shape"
      ],
      "execution_count": 7,
      "outputs": [
        {
          "output_type": "execute_result",
          "data": {
            "text/plain": [
              "(3961, 13)"
            ]
          },
          "metadata": {
            "tags": []
          },
          "execution_count": 7
        }
      ]
    },
    {
      "cell_type": "code",
      "metadata": {
        "colab": {
          "base_uri": "https://localhost:8080/"
        },
        "id": "nXqfZXJTctXp",
        "outputId": "3d26a415-ecc1-47fe-85b2-61e68e31f475"
      },
      "source": [
        "print(white_df.alcohol[0])\n",
        "print(white_df.pH[3])"
      ],
      "execution_count": 8,
      "outputs": [
        {
          "output_type": "stream",
          "text": [
            "8.8\n",
            "3.19\n"
          ],
          "name": "stdout"
        }
      ]
    },
    {
      "cell_type": "code",
      "metadata": {
        "colab": {
          "base_uri": "https://localhost:8080/",
          "height": 221
        },
        "id": "cHO9Z2ILc6d_",
        "outputId": "73f7a275-2737-4b98-fb82-33ec047d1fd6"
      },
      "source": [
        "red_df = pd.read_csv(\"winequality-red.csv\", sep=\";\")\n",
        "red_df['is_red'] = 1\n",
        "red_df = red_df.drop_duplicates(keep = 'first')\n",
        "red_df.head()"
      ],
      "execution_count": 9,
      "outputs": [
        {
          "output_type": "execute_result",
          "data": {
            "text/html": [
              "<div>\n",
              "<style scoped>\n",
              "    .dataframe tbody tr th:only-of-type {\n",
              "        vertical-align: middle;\n",
              "    }\n",
              "\n",
              "    .dataframe tbody tr th {\n",
              "        vertical-align: top;\n",
              "    }\n",
              "\n",
              "    .dataframe thead th {\n",
              "        text-align: right;\n",
              "    }\n",
              "</style>\n",
              "<table border=\"1\" class=\"dataframe\">\n",
              "  <thead>\n",
              "    <tr style=\"text-align: right;\">\n",
              "      <th></th>\n",
              "      <th>fixed acidity</th>\n",
              "      <th>volatile acidity</th>\n",
              "      <th>citric acid</th>\n",
              "      <th>residual sugar</th>\n",
              "      <th>chlorides</th>\n",
              "      <th>free sulfur dioxide</th>\n",
              "      <th>total sulfur dioxide</th>\n",
              "      <th>density</th>\n",
              "      <th>pH</th>\n",
              "      <th>sulphates</th>\n",
              "      <th>alcohol</th>\n",
              "      <th>quality</th>\n",
              "      <th>is_red</th>\n",
              "    </tr>\n",
              "  </thead>\n",
              "  <tbody>\n",
              "    <tr>\n",
              "      <th>0</th>\n",
              "      <td>7.4</td>\n",
              "      <td>0.70</td>\n",
              "      <td>0.00</td>\n",
              "      <td>1.9</td>\n",
              "      <td>0.076</td>\n",
              "      <td>11.0</td>\n",
              "      <td>34.0</td>\n",
              "      <td>0.9978</td>\n",
              "      <td>3.51</td>\n",
              "      <td>0.56</td>\n",
              "      <td>9.4</td>\n",
              "      <td>5</td>\n",
              "      <td>1</td>\n",
              "    </tr>\n",
              "    <tr>\n",
              "      <th>1</th>\n",
              "      <td>7.8</td>\n",
              "      <td>0.88</td>\n",
              "      <td>0.00</td>\n",
              "      <td>2.6</td>\n",
              "      <td>0.098</td>\n",
              "      <td>25.0</td>\n",
              "      <td>67.0</td>\n",
              "      <td>0.9968</td>\n",
              "      <td>3.20</td>\n",
              "      <td>0.68</td>\n",
              "      <td>9.8</td>\n",
              "      <td>5</td>\n",
              "      <td>1</td>\n",
              "    </tr>\n",
              "    <tr>\n",
              "      <th>2</th>\n",
              "      <td>7.8</td>\n",
              "      <td>0.76</td>\n",
              "      <td>0.04</td>\n",
              "      <td>2.3</td>\n",
              "      <td>0.092</td>\n",
              "      <td>15.0</td>\n",
              "      <td>54.0</td>\n",
              "      <td>0.9970</td>\n",
              "      <td>3.26</td>\n",
              "      <td>0.65</td>\n",
              "      <td>9.8</td>\n",
              "      <td>5</td>\n",
              "      <td>1</td>\n",
              "    </tr>\n",
              "    <tr>\n",
              "      <th>3</th>\n",
              "      <td>11.2</td>\n",
              "      <td>0.28</td>\n",
              "      <td>0.56</td>\n",
              "      <td>1.9</td>\n",
              "      <td>0.075</td>\n",
              "      <td>17.0</td>\n",
              "      <td>60.0</td>\n",
              "      <td>0.9980</td>\n",
              "      <td>3.16</td>\n",
              "      <td>0.58</td>\n",
              "      <td>9.8</td>\n",
              "      <td>6</td>\n",
              "      <td>1</td>\n",
              "    </tr>\n",
              "    <tr>\n",
              "      <th>5</th>\n",
              "      <td>7.4</td>\n",
              "      <td>0.66</td>\n",
              "      <td>0.00</td>\n",
              "      <td>1.8</td>\n",
              "      <td>0.075</td>\n",
              "      <td>13.0</td>\n",
              "      <td>40.0</td>\n",
              "      <td>0.9978</td>\n",
              "      <td>3.51</td>\n",
              "      <td>0.56</td>\n",
              "      <td>9.4</td>\n",
              "      <td>5</td>\n",
              "      <td>1</td>\n",
              "    </tr>\n",
              "  </tbody>\n",
              "</table>\n",
              "</div>"
            ],
            "text/plain": [
              "   fixed acidity  volatile acidity  citric acid  ...  alcohol  quality  is_red\n",
              "0            7.4              0.70         0.00  ...      9.4        5       1\n",
              "1            7.8              0.88         0.00  ...      9.8        5       1\n",
              "2            7.8              0.76         0.04  ...      9.8        5       1\n",
              "3           11.2              0.28         0.56  ...      9.8        6       1\n",
              "5            7.4              0.66         0.00  ...      9.4        5       1\n",
              "\n",
              "[5 rows x 13 columns]"
            ]
          },
          "metadata": {
            "tags": []
          },
          "execution_count": 9
        }
      ]
    },
    {
      "cell_type": "code",
      "metadata": {
        "colab": {
          "base_uri": "https://localhost:8080/"
        },
        "id": "HbGvjzgOtyqj",
        "outputId": "170402a5-b2b8-4766-fc29-ce953d474988"
      },
      "source": [
        "print(red_df.alcohol[0])\n",
        "print(red_df.alcohol[100])"
      ],
      "execution_count": 10,
      "outputs": [
        {
          "output_type": "stream",
          "text": [
            "9.4\n",
            "10.2\n"
          ],
          "name": "stdout"
        }
      ]
    },
    {
      "cell_type": "code",
      "metadata": {
        "id": "Y4gh93g-t8g6"
      },
      "source": [
        "df = pd.concat([red_df, white_df], ignore_index=True)"
      ],
      "execution_count": 11,
      "outputs": []
    },
    {
      "cell_type": "code",
      "metadata": {
        "colab": {
          "base_uri": "https://localhost:8080/"
        },
        "id": "jhnHqbb1vPOj",
        "outputId": "73c552de-9d69-4169-ac6b-3b76f314b22b"
      },
      "source": [
        "print(df.alcohol[0])\n",
        "print(df.alcohol[100])"
      ],
      "execution_count": 12,
      "outputs": [
        {
          "output_type": "stream",
          "text": [
            "9.4\n",
            "9.5\n"
          ],
          "name": "stdout"
        }
      ]
    },
    {
      "cell_type": "code",
      "metadata": {
        "colab": {
          "base_uri": "https://localhost:8080/",
          "height": 376
        },
        "id": "kbJne5VXvXN9",
        "outputId": "d76671f8-c6ff-4fe2-cfdb-ca7c83ca9afe"
      },
      "source": [
        "df.head(10)"
      ],
      "execution_count": 13,
      "outputs": [
        {
          "output_type": "execute_result",
          "data": {
            "text/html": [
              "<div>\n",
              "<style scoped>\n",
              "    .dataframe tbody tr th:only-of-type {\n",
              "        vertical-align: middle;\n",
              "    }\n",
              "\n",
              "    .dataframe tbody tr th {\n",
              "        vertical-align: top;\n",
              "    }\n",
              "\n",
              "    .dataframe thead th {\n",
              "        text-align: right;\n",
              "    }\n",
              "</style>\n",
              "<table border=\"1\" class=\"dataframe\">\n",
              "  <thead>\n",
              "    <tr style=\"text-align: right;\">\n",
              "      <th></th>\n",
              "      <th>fixed acidity</th>\n",
              "      <th>volatile acidity</th>\n",
              "      <th>citric acid</th>\n",
              "      <th>residual sugar</th>\n",
              "      <th>chlorides</th>\n",
              "      <th>free sulfur dioxide</th>\n",
              "      <th>total sulfur dioxide</th>\n",
              "      <th>density</th>\n",
              "      <th>pH</th>\n",
              "      <th>sulphates</th>\n",
              "      <th>alcohol</th>\n",
              "      <th>quality</th>\n",
              "      <th>is_red</th>\n",
              "    </tr>\n",
              "  </thead>\n",
              "  <tbody>\n",
              "    <tr>\n",
              "      <th>0</th>\n",
              "      <td>7.4</td>\n",
              "      <td>0.70</td>\n",
              "      <td>0.00</td>\n",
              "      <td>1.9</td>\n",
              "      <td>0.076</td>\n",
              "      <td>11.0</td>\n",
              "      <td>34.0</td>\n",
              "      <td>0.9978</td>\n",
              "      <td>3.51</td>\n",
              "      <td>0.56</td>\n",
              "      <td>9.4</td>\n",
              "      <td>5</td>\n",
              "      <td>1</td>\n",
              "    </tr>\n",
              "    <tr>\n",
              "      <th>1</th>\n",
              "      <td>7.8</td>\n",
              "      <td>0.88</td>\n",
              "      <td>0.00</td>\n",
              "      <td>2.6</td>\n",
              "      <td>0.098</td>\n",
              "      <td>25.0</td>\n",
              "      <td>67.0</td>\n",
              "      <td>0.9968</td>\n",
              "      <td>3.20</td>\n",
              "      <td>0.68</td>\n",
              "      <td>9.8</td>\n",
              "      <td>5</td>\n",
              "      <td>1</td>\n",
              "    </tr>\n",
              "    <tr>\n",
              "      <th>2</th>\n",
              "      <td>7.8</td>\n",
              "      <td>0.76</td>\n",
              "      <td>0.04</td>\n",
              "      <td>2.3</td>\n",
              "      <td>0.092</td>\n",
              "      <td>15.0</td>\n",
              "      <td>54.0</td>\n",
              "      <td>0.9970</td>\n",
              "      <td>3.26</td>\n",
              "      <td>0.65</td>\n",
              "      <td>9.8</td>\n",
              "      <td>5</td>\n",
              "      <td>1</td>\n",
              "    </tr>\n",
              "    <tr>\n",
              "      <th>3</th>\n",
              "      <td>11.2</td>\n",
              "      <td>0.28</td>\n",
              "      <td>0.56</td>\n",
              "      <td>1.9</td>\n",
              "      <td>0.075</td>\n",
              "      <td>17.0</td>\n",
              "      <td>60.0</td>\n",
              "      <td>0.9980</td>\n",
              "      <td>3.16</td>\n",
              "      <td>0.58</td>\n",
              "      <td>9.8</td>\n",
              "      <td>6</td>\n",
              "      <td>1</td>\n",
              "    </tr>\n",
              "    <tr>\n",
              "      <th>4</th>\n",
              "      <td>7.4</td>\n",
              "      <td>0.66</td>\n",
              "      <td>0.00</td>\n",
              "      <td>1.8</td>\n",
              "      <td>0.075</td>\n",
              "      <td>13.0</td>\n",
              "      <td>40.0</td>\n",
              "      <td>0.9978</td>\n",
              "      <td>3.51</td>\n",
              "      <td>0.56</td>\n",
              "      <td>9.4</td>\n",
              "      <td>5</td>\n",
              "      <td>1</td>\n",
              "    </tr>\n",
              "    <tr>\n",
              "      <th>5</th>\n",
              "      <td>7.9</td>\n",
              "      <td>0.60</td>\n",
              "      <td>0.06</td>\n",
              "      <td>1.6</td>\n",
              "      <td>0.069</td>\n",
              "      <td>15.0</td>\n",
              "      <td>59.0</td>\n",
              "      <td>0.9964</td>\n",
              "      <td>3.30</td>\n",
              "      <td>0.46</td>\n",
              "      <td>9.4</td>\n",
              "      <td>5</td>\n",
              "      <td>1</td>\n",
              "    </tr>\n",
              "    <tr>\n",
              "      <th>6</th>\n",
              "      <td>7.3</td>\n",
              "      <td>0.65</td>\n",
              "      <td>0.00</td>\n",
              "      <td>1.2</td>\n",
              "      <td>0.065</td>\n",
              "      <td>15.0</td>\n",
              "      <td>21.0</td>\n",
              "      <td>0.9946</td>\n",
              "      <td>3.39</td>\n",
              "      <td>0.47</td>\n",
              "      <td>10.0</td>\n",
              "      <td>7</td>\n",
              "      <td>1</td>\n",
              "    </tr>\n",
              "    <tr>\n",
              "      <th>7</th>\n",
              "      <td>7.8</td>\n",
              "      <td>0.58</td>\n",
              "      <td>0.02</td>\n",
              "      <td>2.0</td>\n",
              "      <td>0.073</td>\n",
              "      <td>9.0</td>\n",
              "      <td>18.0</td>\n",
              "      <td>0.9968</td>\n",
              "      <td>3.36</td>\n",
              "      <td>0.57</td>\n",
              "      <td>9.5</td>\n",
              "      <td>7</td>\n",
              "      <td>1</td>\n",
              "    </tr>\n",
              "    <tr>\n",
              "      <th>8</th>\n",
              "      <td>7.5</td>\n",
              "      <td>0.50</td>\n",
              "      <td>0.36</td>\n",
              "      <td>6.1</td>\n",
              "      <td>0.071</td>\n",
              "      <td>17.0</td>\n",
              "      <td>102.0</td>\n",
              "      <td>0.9978</td>\n",
              "      <td>3.35</td>\n",
              "      <td>0.80</td>\n",
              "      <td>10.5</td>\n",
              "      <td>5</td>\n",
              "      <td>1</td>\n",
              "    </tr>\n",
              "    <tr>\n",
              "      <th>9</th>\n",
              "      <td>6.7</td>\n",
              "      <td>0.58</td>\n",
              "      <td>0.08</td>\n",
              "      <td>1.8</td>\n",
              "      <td>0.097</td>\n",
              "      <td>15.0</td>\n",
              "      <td>65.0</td>\n",
              "      <td>0.9959</td>\n",
              "      <td>3.28</td>\n",
              "      <td>0.54</td>\n",
              "      <td>9.2</td>\n",
              "      <td>5</td>\n",
              "      <td>1</td>\n",
              "    </tr>\n",
              "  </tbody>\n",
              "</table>\n",
              "</div>"
            ],
            "text/plain": [
              "   fixed acidity  volatile acidity  citric acid  ...  alcohol  quality  is_red\n",
              "0            7.4              0.70         0.00  ...      9.4        5       1\n",
              "1            7.8              0.88         0.00  ...      9.8        5       1\n",
              "2            7.8              0.76         0.04  ...      9.8        5       1\n",
              "3           11.2              0.28         0.56  ...      9.8        6       1\n",
              "4            7.4              0.66         0.00  ...      9.4        5       1\n",
              "5            7.9              0.60         0.06  ...      9.4        5       1\n",
              "6            7.3              0.65         0.00  ...     10.0        7       1\n",
              "7            7.8              0.58         0.02  ...      9.5        7       1\n",
              "8            7.5              0.50         0.36  ...     10.5        5       1\n",
              "9            6.7              0.58         0.08  ...      9.2        5       1\n",
              "\n",
              "[10 rows x 13 columns]"
            ]
          },
          "metadata": {
            "tags": []
          },
          "execution_count": 13
        }
      ]
    },
    {
      "cell_type": "code",
      "metadata": {
        "colab": {
          "base_uri": "https://localhost:8080/",
          "height": 282
        },
        "id": "n1pcePNzxIS3",
        "outputId": "acb4e07b-3a55-4ea1-cfa8-269a4918b43e"
      },
      "source": [
        "df['quality'].hist(bins=20)"
      ],
      "execution_count": 14,
      "outputs": [
        {
          "output_type": "execute_result",
          "data": {
            "text/plain": [
              "<matplotlib.axes._subplots.AxesSubplot at 0x7fca4a01da10>"
            ]
          },
          "metadata": {
            "tags": []
          },
          "execution_count": 14
        },
        {
          "output_type": "display_data",
          "data": {
            "image/png": "[encoded data removed]",
            "text/plain": [
              "<Figure size 432x288 with 1 Axes>"
            ]
          },
          "metadata": {
            "tags": [],
            "needs_background": "light"
          }
        }
      ]
    },
    {
      "cell_type": "code",
      "metadata": {
        "id": "nLw_b_-QxY8E"
      },
      "source": [
        "df = df[(df['quality']>4) & (df['quality']<8)]\n",
        "df = df.reset_index(drop = True)"
      ],
      "execution_count": 15,
      "outputs": []
    },
    {
      "cell_type": "code",
      "metadata": {
        "colab": {
          "base_uri": "https://localhost:8080/"
        },
        "id": "W5EK5Qw1yGJq",
        "outputId": "ff6b7277-439a-4b05-a0c2-85256a8920ff"
      },
      "source": [
        "print(df.alcohol[0])\n",
        "print(df.alcohol[100])"
      ],
      "execution_count": 16,
      "outputs": [
        {
          "output_type": "stream",
          "text": [
            "9.4\n",
            "10.9\n"
          ],
          "name": "stdout"
        }
      ]
    },
    {
      "cell_type": "code",
      "metadata": {
        "colab": {
          "base_uri": "https://localhost:8080/",
          "height": 282
        },
        "id": "6XbxG38FyPjD",
        "outputId": "45d0de99-35a6-4479-8a3d-993c10ef68a1"
      },
      "source": [
        "df['quality'].hist(bins=20)"
      ],
      "execution_count": 17,
      "outputs": [
        {
          "output_type": "execute_result",
          "data": {
            "text/plain": [
              "<matplotlib.axes._subplots.AxesSubplot at 0x7fca4876db50>"
            ]
          },
          "metadata": {
            "tags": []
          },
          "execution_count": 17
        },
        {
          "output_type": "display_data",
          "data": {
            "image/png": "[encoded data removed]",
            "text/plain": [
              "<Figure size 432x288 with 1 Axes>"
            ]
          },
          "metadata": {
            "tags": [],
            "needs_background": "light"
          }
        }
      ]
    },
    {
      "cell_type": "code",
      "metadata": {
        "id": "M6YWyfSOyUrZ"
      },
      "source": [
        "train, test = train_test_split(df, test_size=0.2, random_state=1)\n",
        "train, val = train_test_split(train, test_size=0.2, random_state = 1)"
      ],
      "execution_count": 18,
      "outputs": []
    },
    {
      "cell_type": "code",
      "metadata": {
        "id": "WKP6cV3py5Z7"
      },
      "source": [
        "train_stats = train.describe()\n",
        "train_stats.pop('is_red')\n",
        "train_stats.pop('quality')\n",
        "train_stats = train_stats.transpose()"
      ],
      "execution_count": 21,
      "outputs": []
    },
    {
      "cell_type": "code",
      "metadata": {
        "colab": {
          "base_uri": "https://localhost:8080/",
          "height": 390
        },
        "id": "mFIlu7A3zZsR",
        "outputId": "7fec2687-7add-48f2-f813-66157284a914"
      },
      "source": [
        "train_stats"
      ],
      "execution_count": 22,
      "outputs": [
        {
          "output_type": "execute_result",
          "data": {
            "text/html": [
              "<div>\n",
              "<style scoped>\n",
              "    .dataframe tbody tr th:only-of-type {\n",
              "        vertical-align: middle;\n",
              "    }\n",
              "\n",
              "    .dataframe tbody tr th {\n",
              "        vertical-align: top;\n",
              "    }\n",
              "\n",
              "    .dataframe thead th {\n",
              "        text-align: right;\n",
              "    }\n",
              "</style>\n",
              "<table border=\"1\" class=\"dataframe\">\n",
              "  <thead>\n",
              "    <tr style=\"text-align: right;\">\n",
              "      <th></th>\n",
              "      <th>count</th>\n",
              "      <th>mean</th>\n",
              "      <th>std</th>\n",
              "      <th>min</th>\n",
              "      <th>25%</th>\n",
              "      <th>50%</th>\n",
              "      <th>75%</th>\n",
              "      <th>max</th>\n",
              "    </tr>\n",
              "  </thead>\n",
              "  <tbody>\n",
              "    <tr>\n",
              "      <th>fixed acidity</th>\n",
              "      <td>3155.0</td>\n",
              "      <td>7.221616</td>\n",
              "      <td>1.325297</td>\n",
              "      <td>3.80000</td>\n",
              "      <td>6.40000</td>\n",
              "      <td>7.00000</td>\n",
              "      <td>7.7000</td>\n",
              "      <td>15.60000</td>\n",
              "    </tr>\n",
              "    <tr>\n",
              "      <th>volatile acidity</th>\n",
              "      <td>3155.0</td>\n",
              "      <td>0.338929</td>\n",
              "      <td>0.162476</td>\n",
              "      <td>0.08000</td>\n",
              "      <td>0.23000</td>\n",
              "      <td>0.29000</td>\n",
              "      <td>0.4000</td>\n",
              "      <td>1.24000</td>\n",
              "    </tr>\n",
              "    <tr>\n",
              "      <th>citric acid</th>\n",
              "      <td>3155.0</td>\n",
              "      <td>0.321569</td>\n",
              "      <td>0.147970</td>\n",
              "      <td>0.00000</td>\n",
              "      <td>0.25000</td>\n",
              "      <td>0.31000</td>\n",
              "      <td>0.4000</td>\n",
              "      <td>1.66000</td>\n",
              "    </tr>\n",
              "    <tr>\n",
              "      <th>residual sugar</th>\n",
              "      <td>3155.0</td>\n",
              "      <td>5.155911</td>\n",
              "      <td>4.639632</td>\n",
              "      <td>0.60000</td>\n",
              "      <td>1.80000</td>\n",
              "      <td>2.80000</td>\n",
              "      <td>7.6500</td>\n",
              "      <td>65.80000</td>\n",
              "    </tr>\n",
              "    <tr>\n",
              "      <th>chlorides</th>\n",
              "      <td>3155.0</td>\n",
              "      <td>0.056976</td>\n",
              "      <td>0.036802</td>\n",
              "      <td>0.01200</td>\n",
              "      <td>0.03800</td>\n",
              "      <td>0.04700</td>\n",
              "      <td>0.0660</td>\n",
              "      <td>0.61100</td>\n",
              "    </tr>\n",
              "    <tr>\n",
              "      <th>free sulfur dioxide</th>\n",
              "      <td>3155.0</td>\n",
              "      <td>30.388590</td>\n",
              "      <td>17.236784</td>\n",
              "      <td>1.00000</td>\n",
              "      <td>17.00000</td>\n",
              "      <td>28.00000</td>\n",
              "      <td>41.0000</td>\n",
              "      <td>131.00000</td>\n",
              "    </tr>\n",
              "    <tr>\n",
              "      <th>total sulfur dioxide</th>\n",
              "      <td>3155.0</td>\n",
              "      <td>115.062282</td>\n",
              "      <td>56.706617</td>\n",
              "      <td>6.00000</td>\n",
              "      <td>75.00000</td>\n",
              "      <td>117.00000</td>\n",
              "      <td>156.0000</td>\n",
              "      <td>344.00000</td>\n",
              "    </tr>\n",
              "    <tr>\n",
              "      <th>density</th>\n",
              "      <td>3155.0</td>\n",
              "      <td>0.994633</td>\n",
              "      <td>0.003005</td>\n",
              "      <td>0.98711</td>\n",
              "      <td>0.99232</td>\n",
              "      <td>0.99481</td>\n",
              "      <td>0.9968</td>\n",
              "      <td>1.03898</td>\n",
              "    </tr>\n",
              "    <tr>\n",
              "      <th>pH</th>\n",
              "      <td>3155.0</td>\n",
              "      <td>3.223201</td>\n",
              "      <td>0.161272</td>\n",
              "      <td>2.72000</td>\n",
              "      <td>3.11000</td>\n",
              "      <td>3.21000</td>\n",
              "      <td>3.3300</td>\n",
              "      <td>4.01000</td>\n",
              "    </tr>\n",
              "    <tr>\n",
              "      <th>sulphates</th>\n",
              "      <td>3155.0</td>\n",
              "      <td>0.534051</td>\n",
              "      <td>0.149149</td>\n",
              "      <td>0.22000</td>\n",
              "      <td>0.43000</td>\n",
              "      <td>0.51000</td>\n",
              "      <td>0.6000</td>\n",
              "      <td>1.95000</td>\n",
              "    </tr>\n",
              "    <tr>\n",
              "      <th>alcohol</th>\n",
              "      <td>3155.0</td>\n",
              "      <td>10.504466</td>\n",
              "      <td>1.154654</td>\n",
              "      <td>8.50000</td>\n",
              "      <td>9.50000</td>\n",
              "      <td>10.30000</td>\n",
              "      <td>11.3000</td>\n",
              "      <td>14.00000</td>\n",
              "    </tr>\n",
              "  </tbody>\n",
              "</table>\n",
              "</div>"
            ],
            "text/plain": [
              "                       count        mean  ...       75%        max\n",
              "fixed acidity         3155.0    7.221616  ...    7.7000   15.60000\n",
              "volatile acidity      3155.0    0.338929  ...    0.4000    1.24000\n",
              "citric acid           3155.0    0.321569  ...    0.4000    1.66000\n",
              "residual sugar        3155.0    5.155911  ...    7.6500   65.80000\n",
              "chlorides             3155.0    0.056976  ...    0.0660    0.61100\n",
              "free sulfur dioxide   3155.0   30.388590  ...   41.0000  131.00000\n",
              "total sulfur dioxide  3155.0  115.062282  ...  156.0000  344.00000\n",
              "density               3155.0    0.994633  ...    0.9968    1.03898\n",
              "pH                    3155.0    3.223201  ...    3.3300    4.01000\n",
              "sulphates             3155.0    0.534051  ...    0.6000    1.95000\n",
              "alcohol               3155.0   10.504466  ...   11.3000   14.00000\n",
              "\n",
              "[11 rows x 8 columns]"
            ]
          },
          "metadata": {
            "tags": []
          },
          "execution_count": 22
        }
      ]
    },
    {
      "cell_type": "code",
      "metadata": {
        "id": "BT3j2dPv0i8D"
      },
      "source": [
        "def format_output(data):\n",
        "  is_red = data.pop('is_red')\n",
        "  is_red = np.array(is_red)\n",
        "  quality = data.pop('quality')\n",
        "  quality = np.array(quality)\n",
        "  return (quality, is_red)"
      ],
      "execution_count": 23,
      "outputs": []
    },
    {
      "cell_type": "code",
      "metadata": {
        "id": "RvcRPNJo1CBG"
      },
      "source": [
        "train_Y = format_output(train)\n",
        "val_Y = format_output(val)\n",
        "test_Y = format_output(test)"
      ],
      "execution_count": 24,
      "outputs": []
    },
    {
      "cell_type": "code",
      "metadata": {
        "colab": {
          "base_uri": "https://localhost:8080/",
          "height": 204
        },
        "id": "TANhKQrb_XA0",
        "outputId": "fce9c2c9-b95a-498f-95fc-1b0690f3b1f8"
      },
      "source": [
        "train.head()"
      ],
      "execution_count": 25,
      "outputs": [
        {
          "output_type": "execute_result",
          "data": {
            "text/html": [
              "<div>\n",
              "<style scoped>\n",
              "    .dataframe tbody tr th:only-of-type {\n",
              "        vertical-align: middle;\n",
              "    }\n",
              "\n",
              "    .dataframe tbody tr th {\n",
              "        vertical-align: top;\n",
              "    }\n",
              "\n",
              "    .dataframe thead th {\n",
              "        text-align: right;\n",
              "    }\n",
              "</style>\n",
              "<table border=\"1\" class=\"dataframe\">\n",
              "  <thead>\n",
              "    <tr style=\"text-align: right;\">\n",
              "      <th></th>\n",
              "      <th>fixed acidity</th>\n",
              "      <th>volatile acidity</th>\n",
              "      <th>citric acid</th>\n",
              "      <th>residual sugar</th>\n",
              "      <th>chlorides</th>\n",
              "      <th>free sulfur dioxide</th>\n",
              "      <th>total sulfur dioxide</th>\n",
              "      <th>density</th>\n",
              "      <th>pH</th>\n",
              "      <th>sulphates</th>\n",
              "      <th>alcohol</th>\n",
              "    </tr>\n",
              "  </thead>\n",
              "  <tbody>\n",
              "    <tr>\n",
              "      <th>225</th>\n",
              "      <td>7.5</td>\n",
              "      <td>0.65</td>\n",
              "      <td>0.18</td>\n",
              "      <td>7.0</td>\n",
              "      <td>0.088</td>\n",
              "      <td>27.0</td>\n",
              "      <td>94.0</td>\n",
              "      <td>0.99915</td>\n",
              "      <td>3.38</td>\n",
              "      <td>0.77</td>\n",
              "      <td>9.4</td>\n",
              "    </tr>\n",
              "    <tr>\n",
              "      <th>3557</th>\n",
              "      <td>6.3</td>\n",
              "      <td>0.27</td>\n",
              "      <td>0.29</td>\n",
              "      <td>12.2</td>\n",
              "      <td>0.044</td>\n",
              "      <td>59.0</td>\n",
              "      <td>196.0</td>\n",
              "      <td>0.99782</td>\n",
              "      <td>3.14</td>\n",
              "      <td>0.40</td>\n",
              "      <td>8.8</td>\n",
              "    </tr>\n",
              "    <tr>\n",
              "      <th>3825</th>\n",
              "      <td>8.8</td>\n",
              "      <td>0.27</td>\n",
              "      <td>0.25</td>\n",
              "      <td>5.0</td>\n",
              "      <td>0.024</td>\n",
              "      <td>52.0</td>\n",
              "      <td>99.0</td>\n",
              "      <td>0.99250</td>\n",
              "      <td>2.87</td>\n",
              "      <td>0.49</td>\n",
              "      <td>11.4</td>\n",
              "    </tr>\n",
              "    <tr>\n",
              "      <th>1740</th>\n",
              "      <td>6.4</td>\n",
              "      <td>0.45</td>\n",
              "      <td>0.07</td>\n",
              "      <td>1.1</td>\n",
              "      <td>0.030</td>\n",
              "      <td>10.0</td>\n",
              "      <td>131.0</td>\n",
              "      <td>0.99050</td>\n",
              "      <td>2.97</td>\n",
              "      <td>0.28</td>\n",
              "      <td>10.8</td>\n",
              "    </tr>\n",
              "    <tr>\n",
              "      <th>1221</th>\n",
              "      <td>7.2</td>\n",
              "      <td>0.53</td>\n",
              "      <td>0.13</td>\n",
              "      <td>2.0</td>\n",
              "      <td>0.058</td>\n",
              "      <td>18.0</td>\n",
              "      <td>22.0</td>\n",
              "      <td>0.99573</td>\n",
              "      <td>3.21</td>\n",
              "      <td>0.68</td>\n",
              "      <td>9.9</td>\n",
              "    </tr>\n",
              "  </tbody>\n",
              "</table>\n",
              "</div>"
            ],
            "text/plain": [
              "      fixed acidity  volatile acidity  citric acid  ...    pH  sulphates  alcohol\n",
              "225             7.5              0.65         0.18  ...  3.38       0.77      9.4\n",
              "3557            6.3              0.27         0.29  ...  3.14       0.40      8.8\n",
              "3825            8.8              0.27         0.25  ...  2.87       0.49     11.4\n",
              "1740            6.4              0.45         0.07  ...  2.97       0.28     10.8\n",
              "1221            7.2              0.53         0.13  ...  3.21       0.68      9.9\n",
              "\n",
              "[5 rows x 11 columns]"
            ]
          },
          "metadata": {
            "tags": []
          },
          "execution_count": 25
        }
      ]
    },
    {
      "cell_type": "code",
      "metadata": {
        "id": "3Ipz_xM-_i6x"
      },
      "source": [
        "def norm(x):\n",
        "  return (x - train_stats['mean']) / train_stats['std']"
      ],
      "execution_count": 27,
      "outputs": []
    },
    {
      "cell_type": "code",
      "metadata": {
        "id": "-fSfDGv1AXsX"
      },
      "source": [
        "norm_train_X = norm(train)\n",
        "norm_val_X = norm(val)\n",
        "norm_test_X = norm(test)"
      ],
      "execution_count": 28,
      "outputs": []
    },
    {
      "cell_type": "code",
      "metadata": {
        "id": "SD4BDnkdAm4t"
      },
      "source": [
        "def base_model(inputs):\n",
        "  x = tf.keras.layers.Dense(units = 128, activation='relu')(inputs)\n",
        "  x = tf.keras.layers.Dense(units = 128, activation = 'relu')(x)\n",
        "  return x"
      ],
      "execution_count": 29,
      "outputs": []
    },
    {
      "cell_type": "code",
      "metadata": {
        "id": "WGXPVeG4ClKY"
      },
      "source": [
        "def final_model(inputs):\n",
        "  x = base_model(inputs)\n",
        "  wine_quality = Dense(units='1', name='wine_quality')(x)\n",
        "  wine_type = Dense(units='1', activation = 'sigmoid', name = 'wine_type')(x)\n",
        "  model = Model(inputs=inputs, outputs=[wine_quality, wine_type])\n",
        "\n",
        "  return model"
      ],
      "execution_count": 32,
      "outputs": []
    },
    {
      "cell_type": "code",
      "metadata": {
        "id": "u7sqUHMcEUCR"
      },
      "source": [
        "inputs = tf.keras.layers.Input(shape=(11,))\n",
        "rms = tf.keras.optimizers.RMSprop(learning_rate=0.0001)\n",
        "model = final_model(inputs)\n",
        "\n",
        "model.compile(optimizer=rms,\n",
        "              loss = {'wine_type' : 'binary_crossentropy',\n",
        "                      'wine_quality' : 'mean_squared_error'\n",
        "                      },\n",
        "              metrics = {'wine_type' : 'accuracy',\n",
        "                         'wine_quality' : tf.keras.metrics.RootMeanSquaredError()\n",
        "                         }\n",
        "              )"
      ],
      "execution_count": 34,
      "outputs": []
    },
    {
      "cell_type": "code",
      "metadata": {
        "colab": {
          "base_uri": "https://localhost:8080/"
        },
        "id": "RPTFALbWIVdU",
        "outputId": "f36be35e-1fd1-4ff8-8125-475beab8961a"
      },
      "source": [
        "history = model.fit(norm_train_X, train_Y,\n",
        "                     epochs=180, validation_data = (norm_val_X,val_Y))"
      ],
      "execution_count": 36,
      "outputs": [
        {
          "output_type": "stream",
          "text": [
            "Epoch 1/180\n",
            "99/99 [==============================] - 2s 5ms/step - loss: 26.2820 - wine_quality_loss: 25.6003 - wine_type_loss: 0.6817 - wine_quality_root_mean_squared_error: 5.0597 - wine_type_accuracy: 0.5312 - val_loss: 18.2812 - val_wine_quality_loss: 17.6593 - val_wine_type_loss: 0.6219 - val_wine_quality_root_mean_squared_error: 4.2023 - val_wine_type_accuracy: 0.7706\n",
            "Epoch 2/180\n",
            "99/99 [==============================] - 0s 2ms/step - loss: 12.1634 - wine_quality_loss: 11.5739 - wine_type_loss: 0.5895 - wine_quality_root_mean_squared_error: 3.4020 - wine_type_accuracy: 0.8181 - val_loss: 7.0019 - val_wine_quality_loss: 6.4546 - val_wine_type_loss: 0.5473 - val_wine_quality_root_mean_squared_error: 2.5406 - val_wine_type_accuracy: 0.8707\n",
            "Epoch 3/180\n",
            "99/99 [==============================] - 0s 2ms/step - loss: 4.6229 - wine_quality_loss: 4.1166 - wine_type_loss: 0.5063 - wine_quality_root_mean_squared_error: 2.0289 - wine_type_accuracy: 0.8580 - val_loss: 3.0092 - val_wine_quality_loss: 2.5471 - val_wine_type_loss: 0.4621 - val_wine_quality_root_mean_squared_error: 1.5960 - val_wine_type_accuracy: 0.8669\n",
            "Epoch 4/180\n",
            "99/99 [==============================] - 0s 2ms/step - loss: 2.7013 - wine_quality_loss: 2.2866 - wine_type_loss: 0.4146 - wine_quality_root_mean_squared_error: 1.5122 - wine_type_accuracy: 0.8802 - val_loss: 2.3723 - val_wine_quality_loss: 1.9956 - val_wine_type_loss: 0.3766 - val_wine_quality_root_mean_squared_error: 1.4127 - val_wine_type_accuracy: 0.9011\n",
            "Epoch 5/180\n",
            "99/99 [==============================] - 0s 2ms/step - loss: 2.2570 - wine_quality_loss: 1.9224 - wine_type_loss: 0.3346 - wine_quality_root_mean_squared_error: 1.3865 - wine_type_accuracy: 0.9255 - val_loss: 2.0762 - val_wine_quality_loss: 1.7714 - val_wine_type_loss: 0.3049 - val_wine_quality_root_mean_squared_error: 1.3309 - val_wine_type_accuracy: 0.9417\n",
            "Epoch 6/180\n",
            "99/99 [==============================] - 0s 3ms/step - loss: 1.9814 - wine_quality_loss: 1.7118 - wine_type_loss: 0.2697 - wine_quality_root_mean_squared_error: 1.3083 - wine_type_accuracy: 0.9575 - val_loss: 1.8521 - val_wine_quality_loss: 1.6068 - val_wine_type_loss: 0.2453 - val_wine_quality_root_mean_squared_error: 1.2676 - val_wine_type_accuracy: 0.9645\n",
            "Epoch 7/180\n",
            "99/99 [==============================] - 0s 3ms/step - loss: 1.7830 - wine_quality_loss: 1.5651 - wine_type_loss: 0.2179 - wine_quality_root_mean_squared_error: 1.2510 - wine_type_accuracy: 0.9705 - val_loss: 1.6623 - val_wine_quality_loss: 1.4632 - val_wine_type_loss: 0.1991 - val_wine_quality_root_mean_squared_error: 1.2096 - val_wine_type_accuracy: 0.9797\n",
            "Epoch 8/180\n",
            "99/99 [==============================] - 0s 3ms/step - loss: 1.6222 - wine_quality_loss: 1.4439 - wine_type_loss: 0.1784 - wine_quality_root_mean_squared_error: 1.2016 - wine_type_accuracy: 0.9772 - val_loss: 1.5197 - val_wine_quality_loss: 1.3556 - val_wine_type_loss: 0.1641 - val_wine_quality_root_mean_squared_error: 1.1643 - val_wine_type_accuracy: 0.9835\n",
            "Epoch 9/180\n",
            "99/99 [==============================] - 0s 2ms/step - loss: 1.4879 - wine_quality_loss: 1.3393 - wine_type_loss: 0.1486 - wine_quality_root_mean_squared_error: 1.1573 - wine_type_accuracy: 0.9807 - val_loss: 1.4070 - val_wine_quality_loss: 1.2691 - val_wine_type_loss: 0.1379 - val_wine_quality_root_mean_squared_error: 1.1265 - val_wine_type_accuracy: 0.9861\n",
            "Epoch 10/180\n",
            "99/99 [==============================] - 0s 2ms/step - loss: 1.3750 - wine_quality_loss: 1.2485 - wine_type_loss: 0.1266 - wine_quality_root_mean_squared_error: 1.1173 - wine_type_accuracy: 0.9835 - val_loss: 1.3047 - val_wine_quality_loss: 1.1867 - val_wine_type_loss: 0.1181 - val_wine_quality_root_mean_squared_error: 1.0893 - val_wine_type_accuracy: 0.9861\n",
            "Epoch 11/180\n",
            "99/99 [==============================] - 0s 2ms/step - loss: 1.2741 - wine_quality_loss: 1.1650 - wine_type_loss: 0.1091 - wine_quality_root_mean_squared_error: 1.0793 - wine_type_accuracy: 0.9857 - val_loss: 1.2104 - val_wine_quality_loss: 1.1083 - val_wine_type_loss: 0.1021 - val_wine_quality_root_mean_squared_error: 1.0528 - val_wine_type_accuracy: 0.9861\n",
            "Epoch 12/180\n",
            "99/99 [==============================] - 0s 2ms/step - loss: 1.1797 - wine_quality_loss: 1.0843 - wine_type_loss: 0.0954 - wine_quality_root_mean_squared_error: 1.0413 - wine_type_accuracy: 0.9867 - val_loss: 1.1158 - val_wine_quality_loss: 1.0253 - val_wine_type_loss: 0.0904 - val_wine_quality_root_mean_squared_error: 1.0126 - val_wine_type_accuracy: 0.9861\n",
            "Epoch 13/180\n",
            "99/99 [==============================] - 0s 2ms/step - loss: 1.1027 - wine_quality_loss: 1.0177 - wine_type_loss: 0.0850 - wine_quality_root_mean_squared_error: 1.0088 - wine_type_accuracy: 0.9876 - val_loss: 1.0387 - val_wine_quality_loss: 0.9578 - val_wine_type_loss: 0.0810 - val_wine_quality_root_mean_squared_error: 0.9787 - val_wine_type_accuracy: 0.9861\n",
            "Epoch 14/180\n",
            "99/99 [==============================] - 0s 3ms/step - loss: 1.0289 - wine_quality_loss: 0.9520 - wine_type_loss: 0.0769 - wine_quality_root_mean_squared_error: 0.9757 - wine_type_accuracy: 0.9876 - val_loss: 0.9795 - val_wine_quality_loss: 0.9061 - val_wine_type_loss: 0.0733 - val_wine_quality_root_mean_squared_error: 0.9519 - val_wine_type_accuracy: 0.9861\n",
            "Epoch 15/180\n",
            "99/99 [==============================] - 0s 2ms/step - loss: 0.9614 - wine_quality_loss: 0.8911 - wine_type_loss: 0.0703 - wine_quality_root_mean_squared_error: 0.9440 - wine_type_accuracy: 0.9880 - val_loss: 0.9166 - val_wine_quality_loss: 0.8494 - val_wine_type_loss: 0.0672 - val_wine_quality_root_mean_squared_error: 0.9216 - val_wine_type_accuracy: 0.9861\n",
            "Epoch 16/180\n",
            "99/99 [==============================] - 0s 2ms/step - loss: 0.9004 - wine_quality_loss: 0.8358 - wine_type_loss: 0.0646 - wine_quality_root_mean_squared_error: 0.9142 - wine_type_accuracy: 0.9883 - val_loss: 0.8604 - val_wine_quality_loss: 0.7982 - val_wine_type_loss: 0.0622 - val_wine_quality_root_mean_squared_error: 0.8934 - val_wine_type_accuracy: 0.9861\n",
            "Epoch 17/180\n",
            "99/99 [==============================] - 0s 2ms/step - loss: 0.8481 - wine_quality_loss: 0.7879 - wine_type_loss: 0.0602 - wine_quality_root_mean_squared_error: 0.8876 - wine_type_accuracy: 0.9889 - val_loss: 0.8235 - val_wine_quality_loss: 0.7653 - val_wine_type_loss: 0.0583 - val_wine_quality_root_mean_squared_error: 0.8748 - val_wine_type_accuracy: 0.9861\n",
            "Epoch 18/180\n",
            "99/99 [==============================] - 0s 3ms/step - loss: 0.7990 - wine_quality_loss: 0.7423 - wine_type_loss: 0.0566 - wine_quality_root_mean_squared_error: 0.8616 - wine_type_accuracy: 0.9889 - val_loss: 0.7676 - val_wine_quality_loss: 0.7126 - val_wine_type_loss: 0.0549 - val_wine_quality_root_mean_squared_error: 0.8442 - val_wine_type_accuracy: 0.9873\n",
            "Epoch 19/180\n",
            "99/99 [==============================] - 0s 2ms/step - loss: 0.7542 - wine_quality_loss: 0.7005 - wine_type_loss: 0.0537 - wine_quality_root_mean_squared_error: 0.8369 - wine_type_accuracy: 0.9892 - val_loss: 0.7234 - val_wine_quality_loss: 0.6717 - val_wine_type_loss: 0.0517 - val_wine_quality_root_mean_squared_error: 0.8196 - val_wine_type_accuracy: 0.9886\n",
            "Epoch 20/180\n",
            "99/99 [==============================] - 0s 2ms/step - loss: 0.7157 - wine_quality_loss: 0.6645 - wine_type_loss: 0.0512 - wine_quality_root_mean_squared_error: 0.8152 - wine_type_accuracy: 0.9895 - val_loss: 0.6887 - val_wine_quality_loss: 0.6391 - val_wine_type_loss: 0.0496 - val_wine_quality_root_mean_squared_error: 0.7994 - val_wine_type_accuracy: 0.9899\n",
            "Epoch 21/180\n",
            "99/99 [==============================] - 0s 3ms/step - loss: 0.6784 - wine_quality_loss: 0.6292 - wine_type_loss: 0.0491 - wine_quality_root_mean_squared_error: 0.7932 - wine_type_accuracy: 0.9905 - val_loss: 0.6573 - val_wine_quality_loss: 0.6094 - val_wine_type_loss: 0.0479 - val_wine_quality_root_mean_squared_error: 0.7806 - val_wine_type_accuracy: 0.9899\n",
            "Epoch 22/180\n",
            "99/99 [==============================] - 0s 2ms/step - loss: 0.6429 - wine_quality_loss: 0.5957 - wine_type_loss: 0.0472 - wine_quality_root_mean_squared_error: 0.7718 - wine_type_accuracy: 0.9905 - val_loss: 0.6216 - val_wine_quality_loss: 0.5751 - val_wine_type_loss: 0.0465 - val_wine_quality_root_mean_squared_error: 0.7584 - val_wine_type_accuracy: 0.9899\n",
            "Epoch 23/180\n",
            "99/99 [==============================] - 0s 3ms/step - loss: 0.6155 - wine_quality_loss: 0.5698 - wine_type_loss: 0.0457 - wine_quality_root_mean_squared_error: 0.7548 - wine_type_accuracy: 0.9905 - val_loss: 0.5989 - val_wine_quality_loss: 0.5545 - val_wine_type_loss: 0.0445 - val_wine_quality_root_mean_squared_error: 0.7446 - val_wine_type_accuracy: 0.9886\n",
            "Epoch 24/180\n",
            "99/99 [==============================] - 0s 2ms/step - loss: 0.5888 - wine_quality_loss: 0.5444 - wine_type_loss: 0.0444 - wine_quality_root_mean_squared_error: 0.7378 - wine_type_accuracy: 0.9908 - val_loss: 0.5742 - val_wine_quality_loss: 0.5308 - val_wine_type_loss: 0.0434 - val_wine_quality_root_mean_squared_error: 0.7286 - val_wine_type_accuracy: 0.9886\n",
            "Epoch 25/180\n",
            "99/99 [==============================] - 0s 2ms/step - loss: 0.5641 - wine_quality_loss: 0.5209 - wine_type_loss: 0.0432 - wine_quality_root_mean_squared_error: 0.7217 - wine_type_accuracy: 0.9908 - val_loss: 0.5485 - val_wine_quality_loss: 0.5063 - val_wine_type_loss: 0.0422 - val_wine_quality_root_mean_squared_error: 0.7115 - val_wine_type_accuracy: 0.9899\n",
            "Epoch 26/180\n",
            "99/99 [==============================] - 0s 3ms/step - loss: 0.5424 - wine_quality_loss: 0.5003 - wine_type_loss: 0.0420 - wine_quality_root_mean_squared_error: 0.7074 - wine_type_accuracy: 0.9908 - val_loss: 0.5285 - val_wine_quality_loss: 0.4870 - val_wine_type_loss: 0.0415 - val_wine_quality_root_mean_squared_error: 0.6979 - val_wine_type_accuracy: 0.9899\n",
            "Epoch 27/180\n",
            "99/99 [==============================] - 0s 3ms/step - loss: 0.5245 - wine_quality_loss: 0.4833 - wine_type_loss: 0.0412 - wine_quality_root_mean_squared_error: 0.6952 - wine_type_accuracy: 0.9908 - val_loss: 0.5130 - val_wine_quality_loss: 0.4724 - val_wine_type_loss: 0.0406 - val_wine_quality_root_mean_squared_error: 0.6873 - val_wine_type_accuracy: 0.9899\n",
            "Epoch 28/180\n",
            "99/99 [==============================] - 0s 2ms/step - loss: 0.5056 - wine_quality_loss: 0.4653 - wine_type_loss: 0.0404 - wine_quality_root_mean_squared_error: 0.6821 - wine_type_accuracy: 0.9914 - val_loss: 0.4957 - val_wine_quality_loss: 0.4561 - val_wine_type_loss: 0.0396 - val_wine_quality_root_mean_squared_error: 0.6754 - val_wine_type_accuracy: 0.9899\n",
            "Epoch 29/180\n",
            "99/99 [==============================] - 0s 3ms/step - loss: 0.4887 - wine_quality_loss: 0.4492 - wine_type_loss: 0.0395 - wine_quality_root_mean_squared_error: 0.6702 - wine_type_accuracy: 0.9911 - val_loss: 0.4793 - val_wine_quality_loss: 0.4406 - val_wine_type_loss: 0.0388 - val_wine_quality_root_mean_squared_error: 0.6637 - val_wine_type_accuracy: 0.9911\n",
            "Epoch 30/180\n",
            "99/99 [==============================] - 0s 3ms/step - loss: 0.4748 - wine_quality_loss: 0.4360 - wine_type_loss: 0.0388 - wine_quality_root_mean_squared_error: 0.6603 - wine_type_accuracy: 0.9914 - val_loss: 0.4681 - val_wine_quality_loss: 0.4300 - val_wine_type_loss: 0.0381 - val_wine_quality_root_mean_squared_error: 0.6557 - val_wine_type_accuracy: 0.9911\n",
            "Epoch 31/180\n",
            "99/99 [==============================] - 0s 2ms/step - loss: 0.4620 - wine_quality_loss: 0.4239 - wine_type_loss: 0.0381 - wine_quality_root_mean_squared_error: 0.6511 - wine_type_accuracy: 0.9921 - val_loss: 0.4595 - val_wine_quality_loss: 0.4219 - val_wine_type_loss: 0.0375 - val_wine_quality_root_mean_squared_error: 0.6496 - val_wine_type_accuracy: 0.9924\n",
            "Epoch 32/180\n",
            "99/99 [==============================] - 0s 3ms/step - loss: 0.4499 - wine_quality_loss: 0.4124 - wine_type_loss: 0.0375 - wine_quality_root_mean_squared_error: 0.6422 - wine_type_accuracy: 0.9918 - val_loss: 0.4463 - val_wine_quality_loss: 0.4094 - val_wine_type_loss: 0.0370 - val_wine_quality_root_mean_squared_error: 0.6398 - val_wine_type_accuracy: 0.9924\n",
            "Epoch 33/180\n",
            "99/99 [==============================] - 0s 3ms/step - loss: 0.4383 - wine_quality_loss: 0.4014 - wine_type_loss: 0.0369 - wine_quality_root_mean_squared_error: 0.6336 - wine_type_accuracy: 0.9921 - val_loss: 0.4331 - val_wine_quality_loss: 0.3964 - val_wine_type_loss: 0.0367 - val_wine_quality_root_mean_squared_error: 0.6296 - val_wine_type_accuracy: 0.9924\n",
            "Epoch 34/180\n",
            "99/99 [==============================] - 0s 3ms/step - loss: 0.4295 - wine_quality_loss: 0.3930 - wine_type_loss: 0.0364 - wine_quality_root_mean_squared_error: 0.6269 - wine_type_accuracy: 0.9921 - val_loss: 0.4269 - val_wine_quality_loss: 0.3907 - val_wine_type_loss: 0.0363 - val_wine_quality_root_mean_squared_error: 0.6251 - val_wine_type_accuracy: 0.9937\n",
            "Epoch 35/180\n",
            "99/99 [==============================] - 0s 2ms/step - loss: 0.4203 - wine_quality_loss: 0.3845 - wine_type_loss: 0.0358 - wine_quality_root_mean_squared_error: 0.6201 - wine_type_accuracy: 0.9924 - val_loss: 0.4229 - val_wine_quality_loss: 0.3872 - val_wine_type_loss: 0.0358 - val_wine_quality_root_mean_squared_error: 0.6222 - val_wine_type_accuracy: 0.9937\n",
            "Epoch 36/180\n",
            "99/99 [==============================] - 0s 2ms/step - loss: 0.4126 - wine_quality_loss: 0.3773 - wine_type_loss: 0.0353 - wine_quality_root_mean_squared_error: 0.6142 - wine_type_accuracy: 0.9927 - val_loss: 0.4133 - val_wine_quality_loss: 0.3778 - val_wine_type_loss: 0.0354 - val_wine_quality_root_mean_squared_error: 0.6147 - val_wine_type_accuracy: 0.9937\n",
            "Epoch 37/180\n",
            "99/99 [==============================] - 0s 3ms/step - loss: 0.4058 - wine_quality_loss: 0.3709 - wine_type_loss: 0.0349 - wine_quality_root_mean_squared_error: 0.6090 - wine_type_accuracy: 0.9927 - val_loss: 0.4115 - val_wine_quality_loss: 0.3763 - val_wine_type_loss: 0.0351 - val_wine_quality_root_mean_squared_error: 0.6135 - val_wine_type_accuracy: 0.9937\n",
            "Epoch 38/180\n",
            "99/99 [==============================] - 0s 2ms/step - loss: 0.3977 - wine_quality_loss: 0.3632 - wine_type_loss: 0.0345 - wine_quality_root_mean_squared_error: 0.6026 - wine_type_accuracy: 0.9930 - val_loss: 0.4065 - val_wine_quality_loss: 0.3714 - val_wine_type_loss: 0.0350 - val_wine_quality_root_mean_squared_error: 0.6094 - val_wine_type_accuracy: 0.9937\n",
            "Epoch 39/180\n",
            "99/99 [==============================] - 0s 2ms/step - loss: 0.3929 - wine_quality_loss: 0.3588 - wine_type_loss: 0.0341 - wine_quality_root_mean_squared_error: 0.5990 - wine_type_accuracy: 0.9933 - val_loss: 0.3957 - val_wine_quality_loss: 0.3612 - val_wine_type_loss: 0.0346 - val_wine_quality_root_mean_squared_error: 0.6010 - val_wine_type_accuracy: 0.9937\n",
            "Epoch 40/180\n",
            "99/99 [==============================] - 0s 2ms/step - loss: 0.3881 - wine_quality_loss: 0.3544 - wine_type_loss: 0.0337 - wine_quality_root_mean_squared_error: 0.5953 - wine_type_accuracy: 0.9933 - val_loss: 0.3946 - val_wine_quality_loss: 0.3605 - val_wine_type_loss: 0.0341 - val_wine_quality_root_mean_squared_error: 0.6004 - val_wine_type_accuracy: 0.9949\n",
            "Epoch 41/180\n",
            "99/99 [==============================] - 0s 3ms/step - loss: 0.3830 - wine_quality_loss: 0.3498 - wine_type_loss: 0.0333 - wine_quality_root_mean_squared_error: 0.5914 - wine_type_accuracy: 0.9940 - val_loss: 0.3850 - val_wine_quality_loss: 0.3511 - val_wine_type_loss: 0.0339 - val_wine_quality_root_mean_squared_error: 0.5926 - val_wine_type_accuracy: 0.9949\n",
            "Epoch 42/180\n",
            "99/99 [==============================] - 0s 2ms/step - loss: 0.3775 - wine_quality_loss: 0.3445 - wine_type_loss: 0.0330 - wine_quality_root_mean_squared_error: 0.5870 - wine_type_accuracy: 0.9940 - val_loss: 0.3932 - val_wine_quality_loss: 0.3595 - val_wine_type_loss: 0.0337 - val_wine_quality_root_mean_squared_error: 0.5996 - val_wine_type_accuracy: 0.9949\n",
            "Epoch 43/180\n",
            "99/99 [==============================] - 0s 3ms/step - loss: 0.3738 - wine_quality_loss: 0.3413 - wine_type_loss: 0.0326 - wine_quality_root_mean_squared_error: 0.5842 - wine_type_accuracy: 0.9933 - val_loss: 0.3854 - val_wine_quality_loss: 0.3522 - val_wine_type_loss: 0.0332 - val_wine_quality_root_mean_squared_error: 0.5934 - val_wine_type_accuracy: 0.9949\n",
            "Epoch 44/180\n",
            "99/99 [==============================] - 0s 3ms/step - loss: 0.3710 - wine_quality_loss: 0.3388 - wine_type_loss: 0.0322 - wine_quality_root_mean_squared_error: 0.5820 - wine_type_accuracy: 0.9940 - val_loss: 0.3789 - val_wine_quality_loss: 0.3458 - val_wine_type_loss: 0.0331 - val_wine_quality_root_mean_squared_error: 0.5881 - val_wine_type_accuracy: 0.9949\n",
            "Epoch 45/180\n",
            "99/99 [==============================] - 0s 3ms/step - loss: 0.3660 - wine_quality_loss: 0.3340 - wine_type_loss: 0.0320 - wine_quality_root_mean_squared_error: 0.5779 - wine_type_accuracy: 0.9940 - val_loss: 0.3754 - val_wine_quality_loss: 0.3425 - val_wine_type_loss: 0.0329 - val_wine_quality_root_mean_squared_error: 0.5853 - val_wine_type_accuracy: 0.9949\n",
            "Epoch 46/180\n",
            "99/99 [==============================] - 0s 2ms/step - loss: 0.3650 - wine_quality_loss: 0.3333 - wine_type_loss: 0.0316 - wine_quality_root_mean_squared_error: 0.5774 - wine_type_accuracy: 0.9940 - val_loss: 0.3778 - val_wine_quality_loss: 0.3452 - val_wine_type_loss: 0.0327 - val_wine_quality_root_mean_squared_error: 0.5875 - val_wine_type_accuracy: 0.9949\n",
            "Epoch 47/180\n",
            "99/99 [==============================] - 0s 2ms/step - loss: 0.3616 - wine_quality_loss: 0.3304 - wine_type_loss: 0.0312 - wine_quality_root_mean_squared_error: 0.5748 - wine_type_accuracy: 0.9940 - val_loss: 0.3716 - val_wine_quality_loss: 0.3391 - val_wine_type_loss: 0.0324 - val_wine_quality_root_mean_squared_error: 0.5823 - val_wine_type_accuracy: 0.9949\n",
            "Epoch 48/180\n",
            "99/99 [==============================] - 0s 2ms/step - loss: 0.3594 - wine_quality_loss: 0.3284 - wine_type_loss: 0.0310 - wine_quality_root_mean_squared_error: 0.5731 - wine_type_accuracy: 0.9937 - val_loss: 0.3712 - val_wine_quality_loss: 0.3386 - val_wine_type_loss: 0.0326 - val_wine_quality_root_mean_squared_error: 0.5819 - val_wine_type_accuracy: 0.9949\n",
            "Epoch 49/180\n",
            "99/99 [==============================] - 0s 2ms/step - loss: 0.3546 - wine_quality_loss: 0.3240 - wine_type_loss: 0.0307 - wine_quality_root_mean_squared_error: 0.5692 - wine_type_accuracy: 0.9940 - val_loss: 0.3745 - val_wine_quality_loss: 0.3423 - val_wine_type_loss: 0.0322 - val_wine_quality_root_mean_squared_error: 0.5851 - val_wine_type_accuracy: 0.9949\n",
            "Epoch 50/180\n",
            "99/99 [==============================] - 0s 3ms/step - loss: 0.3533 - wine_quality_loss: 0.3229 - wine_type_loss: 0.0304 - wine_quality_root_mean_squared_error: 0.5683 - wine_type_accuracy: 0.9940 - val_loss: 0.3656 - val_wine_quality_loss: 0.3337 - val_wine_type_loss: 0.0319 - val_wine_quality_root_mean_squared_error: 0.5777 - val_wine_type_accuracy: 0.9949\n",
            "Epoch 51/180\n",
            "99/99 [==============================] - 0s 2ms/step - loss: 0.3506 - wine_quality_loss: 0.3204 - wine_type_loss: 0.0302 - wine_quality_root_mean_squared_error: 0.5660 - wine_type_accuracy: 0.9943 - val_loss: 0.3646 - val_wine_quality_loss: 0.3330 - val_wine_type_loss: 0.0316 - val_wine_quality_root_mean_squared_error: 0.5771 - val_wine_type_accuracy: 0.9949\n",
            "Epoch 52/180\n",
            "99/99 [==============================] - 0s 3ms/step - loss: 0.3487 - wine_quality_loss: 0.3189 - wine_type_loss: 0.0298 - wine_quality_root_mean_squared_error: 0.5647 - wine_type_accuracy: 0.9943 - val_loss: 0.3654 - val_wine_quality_loss: 0.3338 - val_wine_type_loss: 0.0316 - val_wine_quality_root_mean_squared_error: 0.5778 - val_wine_type_accuracy: 0.9949\n",
            "Epoch 53/180\n",
            "99/99 [==============================] - 0s 2ms/step - loss: 0.3470 - wine_quality_loss: 0.3175 - wine_type_loss: 0.0296 - wine_quality_root_mean_squared_error: 0.5634 - wine_type_accuracy: 0.9946 - val_loss: 0.3738 - val_wine_quality_loss: 0.3426 - val_wine_type_loss: 0.0312 - val_wine_quality_root_mean_squared_error: 0.5853 - val_wine_type_accuracy: 0.9949\n",
            "Epoch 54/180\n",
            "99/99 [==============================] - 0s 3ms/step - loss: 0.3459 - wine_quality_loss: 0.3166 - wine_type_loss: 0.0293 - wine_quality_root_mean_squared_error: 0.5627 - wine_type_accuracy: 0.9949 - val_loss: 0.3653 - val_wine_quality_loss: 0.3340 - val_wine_type_loss: 0.0313 - val_wine_quality_root_mean_squared_error: 0.5780 - val_wine_type_accuracy: 0.9949\n",
            "Epoch 55/180\n",
            "99/99 [==============================] - 0s 2ms/step - loss: 0.3437 - wine_quality_loss: 0.3147 - wine_type_loss: 0.0290 - wine_quality_root_mean_squared_error: 0.5609 - wine_type_accuracy: 0.9943 - val_loss: 0.3601 - val_wine_quality_loss: 0.3289 - val_wine_type_loss: 0.0311 - val_wine_quality_root_mean_squared_error: 0.5735 - val_wine_type_accuracy: 0.9949\n",
            "Epoch 56/180\n",
            "99/99 [==============================] - 0s 2ms/step - loss: 0.3400 - wine_quality_loss: 0.3113 - wine_type_loss: 0.0288 - wine_quality_root_mean_squared_error: 0.5579 - wine_type_accuracy: 0.9946 - val_loss: 0.3616 - val_wine_quality_loss: 0.3307 - val_wine_type_loss: 0.0309 - val_wine_quality_root_mean_squared_error: 0.5751 - val_wine_type_accuracy: 0.9949\n",
            "Epoch 57/180\n",
            "99/99 [==============================] - 0s 3ms/step - loss: 0.3410 - wine_quality_loss: 0.3125 - wine_type_loss: 0.0285 - wine_quality_root_mean_squared_error: 0.5590 - wine_type_accuracy: 0.9946 - val_loss: 0.3666 - val_wine_quality_loss: 0.3356 - val_wine_type_loss: 0.0310 - val_wine_quality_root_mean_squared_error: 0.5794 - val_wine_type_accuracy: 0.9949\n",
            "Epoch 58/180\n",
            "99/99 [==============================] - 0s 3ms/step - loss: 0.3384 - wine_quality_loss: 0.3100 - wine_type_loss: 0.0283 - wine_quality_root_mean_squared_error: 0.5568 - wine_type_accuracy: 0.9943 - val_loss: 0.3691 - val_wine_quality_loss: 0.3381 - val_wine_type_loss: 0.0309 - val_wine_quality_root_mean_squared_error: 0.5815 - val_wine_type_accuracy: 0.9949\n",
            "Epoch 59/180\n",
            "99/99 [==============================] - 0s 2ms/step - loss: 0.3372 - wine_quality_loss: 0.3091 - wine_type_loss: 0.0280 - wine_quality_root_mean_squared_error: 0.5560 - wine_type_accuracy: 0.9949 - val_loss: 0.3684 - val_wine_quality_loss: 0.3378 - val_wine_type_loss: 0.0307 - val_wine_quality_root_mean_squared_error: 0.5812 - val_wine_type_accuracy: 0.9949\n",
            "Epoch 60/180\n",
            "99/99 [==============================] - 0s 2ms/step - loss: 0.3352 - wine_quality_loss: 0.3073 - wine_type_loss: 0.0279 - wine_quality_root_mean_squared_error: 0.5544 - wine_type_accuracy: 0.9946 - val_loss: 0.3546 - val_wine_quality_loss: 0.3239 - val_wine_type_loss: 0.0306 - val_wine_quality_root_mean_squared_error: 0.5692 - val_wine_type_accuracy: 0.9949\n",
            "Epoch 61/180\n",
            "99/99 [==============================] - 0s 3ms/step - loss: 0.3349 - wine_quality_loss: 0.3072 - wine_type_loss: 0.0277 - wine_quality_root_mean_squared_error: 0.5543 - wine_type_accuracy: 0.9952 - val_loss: 0.3538 - val_wine_quality_loss: 0.3235 - val_wine_type_loss: 0.0303 - val_wine_quality_root_mean_squared_error: 0.5688 - val_wine_type_accuracy: 0.9949\n",
            "Epoch 62/180\n",
            "99/99 [==============================] - 0s 2ms/step - loss: 0.3330 - wine_quality_loss: 0.3054 - wine_type_loss: 0.0276 - wine_quality_root_mean_squared_error: 0.5526 - wine_type_accuracy: 0.9949 - val_loss: 0.3577 - val_wine_quality_loss: 0.3275 - val_wine_type_loss: 0.0303 - val_wine_quality_root_mean_squared_error: 0.5722 - val_wine_type_accuracy: 0.9949\n",
            "Epoch 63/180\n",
            "99/99 [==============================] - 0s 3ms/step - loss: 0.3320 - wine_quality_loss: 0.3047 - wine_type_loss: 0.0273 - wine_quality_root_mean_squared_error: 0.5520 - wine_type_accuracy: 0.9946 - val_loss: 0.3529 - val_wine_quality_loss: 0.3226 - val_wine_type_loss: 0.0303 - val_wine_quality_root_mean_squared_error: 0.5680 - val_wine_type_accuracy: 0.9949\n",
            "Epoch 64/180\n",
            "99/99 [==============================] - 0s 3ms/step - loss: 0.3306 - wine_quality_loss: 0.3035 - wine_type_loss: 0.0271 - wine_quality_root_mean_squared_error: 0.5509 - wine_type_accuracy: 0.9946 - val_loss: 0.3560 - val_wine_quality_loss: 0.3257 - val_wine_type_loss: 0.0303 - val_wine_quality_root_mean_squared_error: 0.5707 - val_wine_type_accuracy: 0.9949\n",
            "Epoch 65/180\n",
            "99/99 [==============================] - 0s 2ms/step - loss: 0.3297 - wine_quality_loss: 0.3028 - wine_type_loss: 0.0269 - wine_quality_root_mean_squared_error: 0.5503 - wine_type_accuracy: 0.9956 - val_loss: 0.3508 - val_wine_quality_loss: 0.3208 - val_wine_type_loss: 0.0300 - val_wine_quality_root_mean_squared_error: 0.5664 - val_wine_type_accuracy: 0.9949\n",
            "Epoch 66/180\n",
            "99/99 [==============================] - 0s 3ms/step - loss: 0.3292 - wine_quality_loss: 0.3025 - wine_type_loss: 0.0267 - wine_quality_root_mean_squared_error: 0.5500 - wine_type_accuracy: 0.9956 - val_loss: 0.3588 - val_wine_quality_loss: 0.3289 - val_wine_type_loss: 0.0299 - val_wine_quality_root_mean_squared_error: 0.5735 - val_wine_type_accuracy: 0.9949\n",
            "Epoch 67/180\n",
            "99/99 [==============================] - 0s 2ms/step - loss: 0.3277 - wine_quality_loss: 0.3012 - wine_type_loss: 0.0265 - wine_quality_root_mean_squared_error: 0.5488 - wine_type_accuracy: 0.9952 - val_loss: 0.3505 - val_wine_quality_loss: 0.3206 - val_wine_type_loss: 0.0299 - val_wine_quality_root_mean_squared_error: 0.5663 - val_wine_type_accuracy: 0.9949\n",
            "Epoch 68/180\n",
            "99/99 [==============================] - 0s 3ms/step - loss: 0.3260 - wine_quality_loss: 0.2996 - wine_type_loss: 0.0264 - wine_quality_root_mean_squared_error: 0.5473 - wine_type_accuracy: 0.9956 - val_loss: 0.3575 - val_wine_quality_loss: 0.3277 - val_wine_type_loss: 0.0299 - val_wine_quality_root_mean_squared_error: 0.5724 - val_wine_type_accuracy: 0.9949\n",
            "Epoch 69/180\n",
            "99/99 [==============================] - 0s 3ms/step - loss: 0.3251 - wine_quality_loss: 0.2989 - wine_type_loss: 0.0262 - wine_quality_root_mean_squared_error: 0.5467 - wine_type_accuracy: 0.9956 - val_loss: 0.3498 - val_wine_quality_loss: 0.3201 - val_wine_type_loss: 0.0297 - val_wine_quality_root_mean_squared_error: 0.5658 - val_wine_type_accuracy: 0.9949\n",
            "Epoch 70/180\n",
            "99/99 [==============================] - 0s 3ms/step - loss: 0.3240 - wine_quality_loss: 0.2979 - wine_type_loss: 0.0261 - wine_quality_root_mean_squared_error: 0.5458 - wine_type_accuracy: 0.9956 - val_loss: 0.3521 - val_wine_quality_loss: 0.3225 - val_wine_type_loss: 0.0296 - val_wine_quality_root_mean_squared_error: 0.5679 - val_wine_type_accuracy: 0.9949\n",
            "Epoch 71/180\n",
            "99/99 [==============================] - 0s 2ms/step - loss: 0.3231 - wine_quality_loss: 0.2972 - wine_type_loss: 0.0259 - wine_quality_root_mean_squared_error: 0.5452 - wine_type_accuracy: 0.9952 - val_loss: 0.3479 - val_wine_quality_loss: 0.3184 - val_wine_type_loss: 0.0295 - val_wine_quality_root_mean_squared_error: 0.5642 - val_wine_type_accuracy: 0.9949\n",
            "Epoch 72/180\n",
            "99/99 [==============================] - 0s 2ms/step - loss: 0.3225 - wine_quality_loss: 0.2967 - wine_type_loss: 0.0258 - wine_quality_root_mean_squared_error: 0.5447 - wine_type_accuracy: 0.9952 - val_loss: 0.3496 - val_wine_quality_loss: 0.3200 - val_wine_type_loss: 0.0296 - val_wine_quality_root_mean_squared_error: 0.5657 - val_wine_type_accuracy: 0.9949\n",
            "Epoch 73/180\n",
            "99/99 [==============================] - 0s 3ms/step - loss: 0.3220 - wine_quality_loss: 0.2964 - wine_type_loss: 0.0256 - wine_quality_root_mean_squared_error: 0.5444 - wine_type_accuracy: 0.9956 - val_loss: 0.3474 - val_wine_quality_loss: 0.3180 - val_wine_type_loss: 0.0294 - val_wine_quality_root_mean_squared_error: 0.5639 - val_wine_type_accuracy: 0.9949\n",
            "Epoch 74/180\n",
            "99/99 [==============================] - 0s 2ms/step - loss: 0.3210 - wine_quality_loss: 0.2955 - wine_type_loss: 0.0255 - wine_quality_root_mean_squared_error: 0.5436 - wine_type_accuracy: 0.9956 - val_loss: 0.3536 - val_wine_quality_loss: 0.3242 - val_wine_type_loss: 0.0293 - val_wine_quality_root_mean_squared_error: 0.5694 - val_wine_type_accuracy: 0.9949\n",
            "Epoch 75/180\n",
            "99/99 [==============================] - 0s 3ms/step - loss: 0.3197 - wine_quality_loss: 0.2944 - wine_type_loss: 0.0253 - wine_quality_root_mean_squared_error: 0.5426 - wine_type_accuracy: 0.9956 - val_loss: 0.3439 - val_wine_quality_loss: 0.3146 - val_wine_type_loss: 0.0293 - val_wine_quality_root_mean_squared_error: 0.5609 - val_wine_type_accuracy: 0.9949\n",
            "Epoch 76/180\n",
            "99/99 [==============================] - 0s 3ms/step - loss: 0.3184 - wine_quality_loss: 0.2933 - wine_type_loss: 0.0252 - wine_quality_root_mean_squared_error: 0.5416 - wine_type_accuracy: 0.9956 - val_loss: 0.3493 - val_wine_quality_loss: 0.3200 - val_wine_type_loss: 0.0293 - val_wine_quality_root_mean_squared_error: 0.5657 - val_wine_type_accuracy: 0.9949\n",
            "Epoch 77/180\n",
            "99/99 [==============================] - 0s 2ms/step - loss: 0.3187 - wine_quality_loss: 0.2937 - wine_type_loss: 0.0250 - wine_quality_root_mean_squared_error: 0.5419 - wine_type_accuracy: 0.9956 - val_loss: 0.3487 - val_wine_quality_loss: 0.3197 - val_wine_type_loss: 0.0289 - val_wine_quality_root_mean_squared_error: 0.5654 - val_wine_type_accuracy: 0.9949\n",
            "Epoch 78/180\n",
            "99/99 [==============================] - 0s 3ms/step - loss: 0.3164 - wine_quality_loss: 0.2916 - wine_type_loss: 0.0248 - wine_quality_root_mean_squared_error: 0.5400 - wine_type_accuracy: 0.9956 - val_loss: 0.3496 - val_wine_quality_loss: 0.3205 - val_wine_type_loss: 0.0291 - val_wine_quality_root_mean_squared_error: 0.5661 - val_wine_type_accuracy: 0.9949\n",
            "Epoch 79/180\n",
            "99/99 [==============================] - 0s 2ms/step - loss: 0.3163 - wine_quality_loss: 0.2916 - wine_type_loss: 0.0248 - wine_quality_root_mean_squared_error: 0.5400 - wine_type_accuracy: 0.9956 - val_loss: 0.3454 - val_wine_quality_loss: 0.3165 - val_wine_type_loss: 0.0289 - val_wine_quality_root_mean_squared_error: 0.5626 - val_wine_type_accuracy: 0.9949\n",
            "Epoch 80/180\n",
            "99/99 [==============================] - 0s 2ms/step - loss: 0.3164 - wine_quality_loss: 0.2919 - wine_type_loss: 0.0246 - wine_quality_root_mean_squared_error: 0.5403 - wine_type_accuracy: 0.9956 - val_loss: 0.3498 - val_wine_quality_loss: 0.3210 - val_wine_type_loss: 0.0288 - val_wine_quality_root_mean_squared_error: 0.5666 - val_wine_type_accuracy: 0.9949\n",
            "Epoch 81/180\n",
            "99/99 [==============================] - 0s 2ms/step - loss: 0.3156 - wine_quality_loss: 0.2912 - wine_type_loss: 0.0244 - wine_quality_root_mean_squared_error: 0.5396 - wine_type_accuracy: 0.9956 - val_loss: 0.3471 - val_wine_quality_loss: 0.3183 - val_wine_type_loss: 0.0288 - val_wine_quality_root_mean_squared_error: 0.5642 - val_wine_type_accuracy: 0.9949\n",
            "Epoch 82/180\n",
            "99/99 [==============================] - 0s 3ms/step - loss: 0.3148 - wine_quality_loss: 0.2905 - wine_type_loss: 0.0243 - wine_quality_root_mean_squared_error: 0.5390 - wine_type_accuracy: 0.9956 - val_loss: 0.3448 - val_wine_quality_loss: 0.3161 - val_wine_type_loss: 0.0287 - val_wine_quality_root_mean_squared_error: 0.5622 - val_wine_type_accuracy: 0.9949\n",
            "Epoch 83/180\n",
            "99/99 [==============================] - 0s 2ms/step - loss: 0.3128 - wine_quality_loss: 0.2887 - wine_type_loss: 0.0241 - wine_quality_root_mean_squared_error: 0.5373 - wine_type_accuracy: 0.9956 - val_loss: 0.3408 - val_wine_quality_loss: 0.3122 - val_wine_type_loss: 0.0286 - val_wine_quality_root_mean_squared_error: 0.5588 - val_wine_type_accuracy: 0.9949\n",
            "Epoch 84/180\n",
            "99/99 [==============================] - 0s 2ms/step - loss: 0.3132 - wine_quality_loss: 0.2891 - wine_type_loss: 0.0241 - wine_quality_root_mean_squared_error: 0.5377 - wine_type_accuracy: 0.9956 - val_loss: 0.3500 - val_wine_quality_loss: 0.3214 - val_wine_type_loss: 0.0286 - val_wine_quality_root_mean_squared_error: 0.5670 - val_wine_type_accuracy: 0.9949\n",
            "Epoch 85/180\n",
            "99/99 [==============================] - 0s 3ms/step - loss: 0.3126 - wine_quality_loss: 0.2887 - wine_type_loss: 0.0239 - wine_quality_root_mean_squared_error: 0.5373 - wine_type_accuracy: 0.9956 - val_loss: 0.3470 - val_wine_quality_loss: 0.3184 - val_wine_type_loss: 0.0286 - val_wine_quality_root_mean_squared_error: 0.5643 - val_wine_type_accuracy: 0.9949\n",
            "Epoch 86/180\n",
            "99/99 [==============================] - 0s 2ms/step - loss: 0.3112 - wine_quality_loss: 0.2874 - wine_type_loss: 0.0238 - wine_quality_root_mean_squared_error: 0.5361 - wine_type_accuracy: 0.9956 - val_loss: 0.3426 - val_wine_quality_loss: 0.3142 - val_wine_type_loss: 0.0284 - val_wine_quality_root_mean_squared_error: 0.5605 - val_wine_type_accuracy: 0.9949\n",
            "Epoch 87/180\n",
            "99/99 [==============================] - 0s 2ms/step - loss: 0.3104 - wine_quality_loss: 0.2867 - wine_type_loss: 0.0237 - wine_quality_root_mean_squared_error: 0.5354 - wine_type_accuracy: 0.9956 - val_loss: 0.3474 - val_wine_quality_loss: 0.3191 - val_wine_type_loss: 0.0284 - val_wine_quality_root_mean_squared_error: 0.5649 - val_wine_type_accuracy: 0.9949\n",
            "Epoch 88/180\n",
            "99/99 [==============================] - 0s 2ms/step - loss: 0.3103 - wine_quality_loss: 0.2867 - wine_type_loss: 0.0236 - wine_quality_root_mean_squared_error: 0.5354 - wine_type_accuracy: 0.9959 - val_loss: 0.3438 - val_wine_quality_loss: 0.3155 - val_wine_type_loss: 0.0283 - val_wine_quality_root_mean_squared_error: 0.5617 - val_wine_type_accuracy: 0.9949\n",
            "Epoch 89/180\n",
            "99/99 [==============================] - 0s 3ms/step - loss: 0.3088 - wine_quality_loss: 0.2853 - wine_type_loss: 0.0235 - wine_quality_root_mean_squared_error: 0.5342 - wine_type_accuracy: 0.9956 - val_loss: 0.3465 - val_wine_quality_loss: 0.3181 - val_wine_type_loss: 0.0283 - val_wine_quality_root_mean_squared_error: 0.5640 - val_wine_type_accuracy: 0.9949\n",
            "Epoch 90/180\n",
            "99/99 [==============================] - 0s 2ms/step - loss: 0.3092 - wine_quality_loss: 0.2858 - wine_type_loss: 0.0233 - wine_quality_root_mean_squared_error: 0.5346 - wine_type_accuracy: 0.9956 - val_loss: 0.3436 - val_wine_quality_loss: 0.3154 - val_wine_type_loss: 0.0281 - val_wine_quality_root_mean_squared_error: 0.5616 - val_wine_type_accuracy: 0.9949\n",
            "Epoch 91/180\n",
            "99/99 [==============================] - 0s 2ms/step - loss: 0.3081 - wine_quality_loss: 0.2849 - wine_type_loss: 0.0233 - wine_quality_root_mean_squared_error: 0.5338 - wine_type_accuracy: 0.9956 - val_loss: 0.3450 - val_wine_quality_loss: 0.3170 - val_wine_type_loss: 0.0280 - val_wine_quality_root_mean_squared_error: 0.5630 - val_wine_type_accuracy: 0.9949\n",
            "Epoch 92/180\n",
            "99/99 [==============================] - 0s 3ms/step - loss: 0.3084 - wine_quality_loss: 0.2853 - wine_type_loss: 0.0231 - wine_quality_root_mean_squared_error: 0.5341 - wine_type_accuracy: 0.9959 - val_loss: 0.3487 - val_wine_quality_loss: 0.3206 - val_wine_type_loss: 0.0281 - val_wine_quality_root_mean_squared_error: 0.5662 - val_wine_type_accuracy: 0.9949\n",
            "Epoch 93/180\n",
            "99/99 [==============================] - 0s 2ms/step - loss: 0.3068 - wine_quality_loss: 0.2839 - wine_type_loss: 0.0229 - wine_quality_root_mean_squared_error: 0.5328 - wine_type_accuracy: 0.9959 - val_loss: 0.3444 - val_wine_quality_loss: 0.3166 - val_wine_type_loss: 0.0279 - val_wine_quality_root_mean_squared_error: 0.5626 - val_wine_type_accuracy: 0.9949\n",
            "Epoch 94/180\n",
            "99/99 [==============================] - 0s 3ms/step - loss: 0.3061 - wine_quality_loss: 0.2831 - wine_type_loss: 0.0229 - wine_quality_root_mean_squared_error: 0.5321 - wine_type_accuracy: 0.9959 - val_loss: 0.3449 - val_wine_quality_loss: 0.3169 - val_wine_type_loss: 0.0280 - val_wine_quality_root_mean_squared_error: 0.5629 - val_wine_type_accuracy: 0.9949\n",
            "Epoch 95/180\n",
            "99/99 [==============================] - 0s 3ms/step - loss: 0.3052 - wine_quality_loss: 0.2824 - wine_type_loss: 0.0228 - wine_quality_root_mean_squared_error: 0.5315 - wine_type_accuracy: 0.9959 - val_loss: 0.3440 - val_wine_quality_loss: 0.3161 - val_wine_type_loss: 0.0279 - val_wine_quality_root_mean_squared_error: 0.5623 - val_wine_type_accuracy: 0.9949\n",
            "Epoch 96/180\n",
            "99/99 [==============================] - 0s 2ms/step - loss: 0.3057 - wine_quality_loss: 0.2830 - wine_type_loss: 0.0226 - wine_quality_root_mean_squared_error: 0.5320 - wine_type_accuracy: 0.9959 - val_loss: 0.3398 - val_wine_quality_loss: 0.3121 - val_wine_type_loss: 0.0277 - val_wine_quality_root_mean_squared_error: 0.5586 - val_wine_type_accuracy: 0.9949\n",
            "Epoch 97/180\n",
            "99/99 [==============================] - 0s 2ms/step - loss: 0.3050 - wine_quality_loss: 0.2825 - wine_type_loss: 0.0225 - wine_quality_root_mean_squared_error: 0.5315 - wine_type_accuracy: 0.9959 - val_loss: 0.3387 - val_wine_quality_loss: 0.3110 - val_wine_type_loss: 0.0276 - val_wine_quality_root_mean_squared_error: 0.5577 - val_wine_type_accuracy: 0.9949\n",
            "Epoch 98/180\n",
            "99/99 [==============================] - 0s 2ms/step - loss: 0.3035 - wine_quality_loss: 0.2811 - wine_type_loss: 0.0224 - wine_quality_root_mean_squared_error: 0.5302 - wine_type_accuracy: 0.9959 - val_loss: 0.3518 - val_wine_quality_loss: 0.3241 - val_wine_type_loss: 0.0277 - val_wine_quality_root_mean_squared_error: 0.5693 - val_wine_type_accuracy: 0.9949\n",
            "Epoch 99/180\n",
            "99/99 [==============================] - 0s 2ms/step - loss: 0.3031 - wine_quality_loss: 0.2808 - wine_type_loss: 0.0223 - wine_quality_root_mean_squared_error: 0.5299 - wine_type_accuracy: 0.9959 - val_loss: 0.3429 - val_wine_quality_loss: 0.3153 - val_wine_type_loss: 0.0276 - val_wine_quality_root_mean_squared_error: 0.5615 - val_wine_type_accuracy: 0.9949\n",
            "Epoch 100/180\n",
            "99/99 [==============================] - 0s 3ms/step - loss: 0.3025 - wine_quality_loss: 0.2803 - wine_type_loss: 0.0222 - wine_quality_root_mean_squared_error: 0.5294 - wine_type_accuracy: 0.9959 - val_loss: 0.3503 - val_wine_quality_loss: 0.3227 - val_wine_type_loss: 0.0276 - val_wine_quality_root_mean_squared_error: 0.5681 - val_wine_type_accuracy: 0.9949\n",
            "Epoch 101/180\n",
            "99/99 [==============================] - 0s 2ms/step - loss: 0.3017 - wine_quality_loss: 0.2796 - wine_type_loss: 0.0221 - wine_quality_root_mean_squared_error: 0.5288 - wine_type_accuracy: 0.9959 - val_loss: 0.3457 - val_wine_quality_loss: 0.3182 - val_wine_type_loss: 0.0275 - val_wine_quality_root_mean_squared_error: 0.5641 - val_wine_type_accuracy: 0.9949\n",
            "Epoch 102/180\n",
            "99/99 [==============================] - 0s 3ms/step - loss: 0.3011 - wine_quality_loss: 0.2791 - wine_type_loss: 0.0220 - wine_quality_root_mean_squared_error: 0.5283 - wine_type_accuracy: 0.9962 - val_loss: 0.3414 - val_wine_quality_loss: 0.3139 - val_wine_type_loss: 0.0275 - val_wine_quality_root_mean_squared_error: 0.5603 - val_wine_type_accuracy: 0.9949\n",
            "Epoch 103/180\n",
            "99/99 [==============================] - 0s 3ms/step - loss: 0.3009 - wine_quality_loss: 0.2791 - wine_type_loss: 0.0219 - wine_quality_root_mean_squared_error: 0.5283 - wine_type_accuracy: 0.9962 - val_loss: 0.3447 - val_wine_quality_loss: 0.3173 - val_wine_type_loss: 0.0274 - val_wine_quality_root_mean_squared_error: 0.5633 - val_wine_type_accuracy: 0.9949\n",
            "Epoch 104/180\n",
            "99/99 [==============================] - 0s 3ms/step - loss: 0.3004 - wine_quality_loss: 0.2786 - wine_type_loss: 0.0218 - wine_quality_root_mean_squared_error: 0.5278 - wine_type_accuracy: 0.9962 - val_loss: 0.3392 - val_wine_quality_loss: 0.3119 - val_wine_type_loss: 0.0273 - val_wine_quality_root_mean_squared_error: 0.5585 - val_wine_type_accuracy: 0.9949\n",
            "Epoch 105/180\n",
            "99/99 [==============================] - 0s 3ms/step - loss: 0.2993 - wine_quality_loss: 0.2777 - wine_type_loss: 0.0216 - wine_quality_root_mean_squared_error: 0.5270 - wine_type_accuracy: 0.9962 - val_loss: 0.3399 - val_wine_quality_loss: 0.3128 - val_wine_type_loss: 0.0271 - val_wine_quality_root_mean_squared_error: 0.5593 - val_wine_type_accuracy: 0.9949\n",
            "Epoch 106/180\n",
            "99/99 [==============================] - 0s 3ms/step - loss: 0.2984 - wine_quality_loss: 0.2769 - wine_type_loss: 0.0215 - wine_quality_root_mean_squared_error: 0.5262 - wine_type_accuracy: 0.9962 - val_loss: 0.3405 - val_wine_quality_loss: 0.3133 - val_wine_type_loss: 0.0272 - val_wine_quality_root_mean_squared_error: 0.5597 - val_wine_type_accuracy: 0.9949\n",
            "Epoch 107/180\n",
            "99/99 [==============================] - 0s 3ms/step - loss: 0.2980 - wine_quality_loss: 0.2765 - wine_type_loss: 0.0215 - wine_quality_root_mean_squared_error: 0.5259 - wine_type_accuracy: 0.9962 - val_loss: 0.3425 - val_wine_quality_loss: 0.3154 - val_wine_type_loss: 0.0270 - val_wine_quality_root_mean_squared_error: 0.5616 - val_wine_type_accuracy: 0.9949\n",
            "Epoch 108/180\n",
            "99/99 [==============================] - 0s 3ms/step - loss: 0.2980 - wine_quality_loss: 0.2766 - wine_type_loss: 0.0214 - wine_quality_root_mean_squared_error: 0.5260 - wine_type_accuracy: 0.9962 - val_loss: 0.3416 - val_wine_quality_loss: 0.3144 - val_wine_type_loss: 0.0272 - val_wine_quality_root_mean_squared_error: 0.5607 - val_wine_type_accuracy: 0.9949\n",
            "Epoch 109/180\n",
            "99/99 [==============================] - 0s 3ms/step - loss: 0.2967 - wine_quality_loss: 0.2754 - wine_type_loss: 0.0213 - wine_quality_root_mean_squared_error: 0.5248 - wine_type_accuracy: 0.9962 - val_loss: 0.3423 - val_wine_quality_loss: 0.3153 - val_wine_type_loss: 0.0270 - val_wine_quality_root_mean_squared_error: 0.5616 - val_wine_type_accuracy: 0.9949\n",
            "Epoch 110/180\n",
            "99/99 [==============================] - 0s 3ms/step - loss: 0.2976 - wine_quality_loss: 0.2765 - wine_type_loss: 0.0212 - wine_quality_root_mean_squared_error: 0.5258 - wine_type_accuracy: 0.9962 - val_loss: 0.3386 - val_wine_quality_loss: 0.3118 - val_wine_type_loss: 0.0268 - val_wine_quality_root_mean_squared_error: 0.5584 - val_wine_type_accuracy: 0.9949\n",
            "Epoch 111/180\n",
            "99/99 [==============================] - 0s 3ms/step - loss: 0.2942 - wine_quality_loss: 0.2732 - wine_type_loss: 0.0210 - wine_quality_root_mean_squared_error: 0.5227 - wine_type_accuracy: 0.9962 - val_loss: 0.3432 - val_wine_quality_loss: 0.3162 - val_wine_type_loss: 0.0269 - val_wine_quality_root_mean_squared_error: 0.5624 - val_wine_type_accuracy: 0.9949\n",
            "Epoch 112/180\n",
            "99/99 [==============================] - 0s 2ms/step - loss: 0.2958 - wine_quality_loss: 0.2748 - wine_type_loss: 0.0210 - wine_quality_root_mean_squared_error: 0.5242 - wine_type_accuracy: 0.9962 - val_loss: 0.3387 - val_wine_quality_loss: 0.3120 - val_wine_type_loss: 0.0267 - val_wine_quality_root_mean_squared_error: 0.5586 - val_wine_type_accuracy: 0.9949\n",
            "Epoch 113/180\n",
            "99/99 [==============================] - 0s 3ms/step - loss: 0.2944 - wine_quality_loss: 0.2736 - wine_type_loss: 0.0209 - wine_quality_root_mean_squared_error: 0.5230 - wine_type_accuracy: 0.9962 - val_loss: 0.3407 - val_wine_quality_loss: 0.3140 - val_wine_type_loss: 0.0267 - val_wine_quality_root_mean_squared_error: 0.5604 - val_wine_type_accuracy: 0.9949\n",
            "Epoch 114/180\n",
            "99/99 [==============================] - 0s 2ms/step - loss: 0.2941 - wine_quality_loss: 0.2733 - wine_type_loss: 0.0208 - wine_quality_root_mean_squared_error: 0.5227 - wine_type_accuracy: 0.9962 - val_loss: 0.3359 - val_wine_quality_loss: 0.3092 - val_wine_type_loss: 0.0267 - val_wine_quality_root_mean_squared_error: 0.5561 - val_wine_type_accuracy: 0.9949\n",
            "Epoch 115/180\n",
            "99/99 [==============================] - 0s 3ms/step - loss: 0.2934 - wine_quality_loss: 0.2727 - wine_type_loss: 0.0207 - wine_quality_root_mean_squared_error: 0.5222 - wine_type_accuracy: 0.9962 - val_loss: 0.3411 - val_wine_quality_loss: 0.3144 - val_wine_type_loss: 0.0268 - val_wine_quality_root_mean_squared_error: 0.5607 - val_wine_type_accuracy: 0.9949\n",
            "Epoch 116/180\n",
            "99/99 [==============================] - 0s 3ms/step - loss: 0.2942 - wine_quality_loss: 0.2736 - wine_type_loss: 0.0206 - wine_quality_root_mean_squared_error: 0.5231 - wine_type_accuracy: 0.9962 - val_loss: 0.3406 - val_wine_quality_loss: 0.3140 - val_wine_type_loss: 0.0267 - val_wine_quality_root_mean_squared_error: 0.5603 - val_wine_type_accuracy: 0.9949\n",
            "Epoch 117/180\n",
            "99/99 [==============================] - 0s 2ms/step - loss: 0.2932 - wine_quality_loss: 0.2727 - wine_type_loss: 0.0205 - wine_quality_root_mean_squared_error: 0.5223 - wine_type_accuracy: 0.9962 - val_loss: 0.3365 - val_wine_quality_loss: 0.3101 - val_wine_type_loss: 0.0264 - val_wine_quality_root_mean_squared_error: 0.5568 - val_wine_type_accuracy: 0.9949\n",
            "Epoch 118/180\n",
            "99/99 [==============================] - 0s 3ms/step - loss: 0.2921 - wine_quality_loss: 0.2716 - wine_type_loss: 0.0204 - wine_quality_root_mean_squared_error: 0.5212 - wine_type_accuracy: 0.9962 - val_loss: 0.3424 - val_wine_quality_loss: 0.3159 - val_wine_type_loss: 0.0265 - val_wine_quality_root_mean_squared_error: 0.5620 - val_wine_type_accuracy: 0.9949\n",
            "Epoch 119/180\n",
            "99/99 [==============================] - 0s 2ms/step - loss: 0.2918 - wine_quality_loss: 0.2715 - wine_type_loss: 0.0203 - wine_quality_root_mean_squared_error: 0.5210 - wine_type_accuracy: 0.9962 - val_loss: 0.3356 - val_wine_quality_loss: 0.3092 - val_wine_type_loss: 0.0263 - val_wine_quality_root_mean_squared_error: 0.5561 - val_wine_type_accuracy: 0.9949\n",
            "Epoch 120/180\n",
            "99/99 [==============================] - 0s 3ms/step - loss: 0.2908 - wine_quality_loss: 0.2706 - wine_type_loss: 0.0203 - wine_quality_root_mean_squared_error: 0.5202 - wine_type_accuracy: 0.9962 - val_loss: 0.3407 - val_wine_quality_loss: 0.3143 - val_wine_type_loss: 0.0264 - val_wine_quality_root_mean_squared_error: 0.5606 - val_wine_type_accuracy: 0.9949\n",
            "Epoch 121/180\n",
            "99/99 [==============================] - 0s 3ms/step - loss: 0.2907 - wine_quality_loss: 0.2706 - wine_type_loss: 0.0202 - wine_quality_root_mean_squared_error: 0.5202 - wine_type_accuracy: 0.9962 - val_loss: 0.3391 - val_wine_quality_loss: 0.3126 - val_wine_type_loss: 0.0264 - val_wine_quality_root_mean_squared_error: 0.5591 - val_wine_type_accuracy: 0.9949\n",
            "Epoch 122/180\n",
            "99/99 [==============================] - 0s 3ms/step - loss: 0.2906 - wine_quality_loss: 0.2706 - wine_type_loss: 0.0201 - wine_quality_root_mean_squared_error: 0.5202 - wine_type_accuracy: 0.9962 - val_loss: 0.3384 - val_wine_quality_loss: 0.3120 - val_wine_type_loss: 0.0263 - val_wine_quality_root_mean_squared_error: 0.5586 - val_wine_type_accuracy: 0.9949\n",
            "Epoch 123/180\n",
            "99/99 [==============================] - 0s 2ms/step - loss: 0.2906 - wine_quality_loss: 0.2705 - wine_type_loss: 0.0200 - wine_quality_root_mean_squared_error: 0.5201 - wine_type_accuracy: 0.9962 - val_loss: 0.3374 - val_wine_quality_loss: 0.3112 - val_wine_type_loss: 0.0262 - val_wine_quality_root_mean_squared_error: 0.5579 - val_wine_type_accuracy: 0.9949\n",
            "Epoch 124/180\n",
            "99/99 [==============================] - 0s 3ms/step - loss: 0.2894 - wine_quality_loss: 0.2695 - wine_type_loss: 0.0199 - wine_quality_root_mean_squared_error: 0.5191 - wine_type_accuracy: 0.9962 - val_loss: 0.3364 - val_wine_quality_loss: 0.3102 - val_wine_type_loss: 0.0262 - val_wine_quality_root_mean_squared_error: 0.5570 - val_wine_type_accuracy: 0.9949\n",
            "Epoch 125/180\n",
            "99/99 [==============================] - 0s 2ms/step - loss: 0.2889 - wine_quality_loss: 0.2691 - wine_type_loss: 0.0198 - wine_quality_root_mean_squared_error: 0.5187 - wine_type_accuracy: 0.9962 - val_loss: 0.3365 - val_wine_quality_loss: 0.3104 - val_wine_type_loss: 0.0261 - val_wine_quality_root_mean_squared_error: 0.5571 - val_wine_type_accuracy: 0.9949\n",
            "Epoch 126/180\n",
            "99/99 [==============================] - 0s 3ms/step - loss: 0.2891 - wine_quality_loss: 0.2693 - wine_type_loss: 0.0198 - wine_quality_root_mean_squared_error: 0.5190 - wine_type_accuracy: 0.9962 - val_loss: 0.3404 - val_wine_quality_loss: 0.3143 - val_wine_type_loss: 0.0261 - val_wine_quality_root_mean_squared_error: 0.5607 - val_wine_type_accuracy: 0.9949\n",
            "Epoch 127/180\n",
            "99/99 [==============================] - 0s 3ms/step - loss: 0.2883 - wine_quality_loss: 0.2686 - wine_type_loss: 0.0197 - wine_quality_root_mean_squared_error: 0.5183 - wine_type_accuracy: 0.9962 - val_loss: 0.3368 - val_wine_quality_loss: 0.3109 - val_wine_type_loss: 0.0260 - val_wine_quality_root_mean_squared_error: 0.5575 - val_wine_type_accuracy: 0.9949\n",
            "Epoch 128/180\n",
            "99/99 [==============================] - 0s 3ms/step - loss: 0.2876 - wine_quality_loss: 0.2680 - wine_type_loss: 0.0196 - wine_quality_root_mean_squared_error: 0.5177 - wine_type_accuracy: 0.9962 - val_loss: 0.3354 - val_wine_quality_loss: 0.3094 - val_wine_type_loss: 0.0260 - val_wine_quality_root_mean_squared_error: 0.5562 - val_wine_type_accuracy: 0.9949\n",
            "Epoch 129/180\n",
            "99/99 [==============================] - 0s 2ms/step - loss: 0.2867 - wine_quality_loss: 0.2672 - wine_type_loss: 0.0195 - wine_quality_root_mean_squared_error: 0.5169 - wine_type_accuracy: 0.9962 - val_loss: 0.3405 - val_wine_quality_loss: 0.3146 - val_wine_type_loss: 0.0259 - val_wine_quality_root_mean_squared_error: 0.5609 - val_wine_type_accuracy: 0.9949\n",
            "Epoch 130/180\n",
            "99/99 [==============================] - 0s 3ms/step - loss: 0.2868 - wine_quality_loss: 0.2674 - wine_type_loss: 0.0195 - wine_quality_root_mean_squared_error: 0.5171 - wine_type_accuracy: 0.9962 - val_loss: 0.3427 - val_wine_quality_loss: 0.3168 - val_wine_type_loss: 0.0258 - val_wine_quality_root_mean_squared_error: 0.5629 - val_wine_type_accuracy: 0.9949\n",
            "Epoch 131/180\n",
            "99/99 [==============================] - 0s 3ms/step - loss: 0.2863 - wine_quality_loss: 0.2669 - wine_type_loss: 0.0193 - wine_quality_root_mean_squared_error: 0.5167 - wine_type_accuracy: 0.9962 - val_loss: 0.3377 - val_wine_quality_loss: 0.3118 - val_wine_type_loss: 0.0259 - val_wine_quality_root_mean_squared_error: 0.5584 - val_wine_type_accuracy: 0.9949\n",
            "Epoch 132/180\n",
            "99/99 [==============================] - 0s 3ms/step - loss: 0.2850 - wine_quality_loss: 0.2657 - wine_type_loss: 0.0193 - wine_quality_root_mean_squared_error: 0.5155 - wine_type_accuracy: 0.9962 - val_loss: 0.3392 - val_wine_quality_loss: 0.3135 - val_wine_type_loss: 0.0257 - val_wine_quality_root_mean_squared_error: 0.5600 - val_wine_type_accuracy: 0.9949\n",
            "Epoch 133/180\n",
            "99/99 [==============================] - 0s 3ms/step - loss: 0.2846 - wine_quality_loss: 0.2654 - wine_type_loss: 0.0192 - wine_quality_root_mean_squared_error: 0.5152 - wine_type_accuracy: 0.9962 - val_loss: 0.3390 - val_wine_quality_loss: 0.3131 - val_wine_type_loss: 0.0258 - val_wine_quality_root_mean_squared_error: 0.5596 - val_wine_type_accuracy: 0.9949\n",
            "Epoch 134/180\n",
            "99/99 [==============================] - 0s 3ms/step - loss: 0.2844 - wine_quality_loss: 0.2653 - wine_type_loss: 0.0192 - wine_quality_root_mean_squared_error: 0.5151 - wine_type_accuracy: 0.9962 - val_loss: 0.3399 - val_wine_quality_loss: 0.3140 - val_wine_type_loss: 0.0259 - val_wine_quality_root_mean_squared_error: 0.5604 - val_wine_type_accuracy: 0.9949\n",
            "Epoch 135/180\n",
            "99/99 [==============================] - 0s 2ms/step - loss: 0.2828 - wine_quality_loss: 0.2638 - wine_type_loss: 0.0191 - wine_quality_root_mean_squared_error: 0.5136 - wine_type_accuracy: 0.9962 - val_loss: 0.3404 - val_wine_quality_loss: 0.3146 - val_wine_type_loss: 0.0258 - val_wine_quality_root_mean_squared_error: 0.5609 - val_wine_type_accuracy: 0.9949\n",
            "Epoch 136/180\n",
            "99/99 [==============================] - 0s 2ms/step - loss: 0.2844 - wine_quality_loss: 0.2654 - wine_type_loss: 0.0190 - wine_quality_root_mean_squared_error: 0.5152 - wine_type_accuracy: 0.9962 - val_loss: 0.3366 - val_wine_quality_loss: 0.3110 - val_wine_type_loss: 0.0257 - val_wine_quality_root_mean_squared_error: 0.5576 - val_wine_type_accuracy: 0.9949\n",
            "Epoch 137/180\n",
            "99/99 [==============================] - 0s 3ms/step - loss: 0.2827 - wine_quality_loss: 0.2638 - wine_type_loss: 0.0189 - wine_quality_root_mean_squared_error: 0.5136 - wine_type_accuracy: 0.9962 - val_loss: 0.3391 - val_wine_quality_loss: 0.3135 - val_wine_type_loss: 0.0256 - val_wine_quality_root_mean_squared_error: 0.5599 - val_wine_type_accuracy: 0.9949\n",
            "Epoch 138/180\n",
            "99/99 [==============================] - 0s 3ms/step - loss: 0.2828 - wine_quality_loss: 0.2640 - wine_type_loss: 0.0188 - wine_quality_root_mean_squared_error: 0.5138 - wine_type_accuracy: 0.9962 - val_loss: 0.3352 - val_wine_quality_loss: 0.3096 - val_wine_type_loss: 0.0256 - val_wine_quality_root_mean_squared_error: 0.5564 - val_wine_type_accuracy: 0.9949\n",
            "Epoch 139/180\n",
            "99/99 [==============================] - 0s 3ms/step - loss: 0.2827 - wine_quality_loss: 0.2639 - wine_type_loss: 0.0188 - wine_quality_root_mean_squared_error: 0.5137 - wine_type_accuracy: 0.9962 - val_loss: 0.3357 - val_wine_quality_loss: 0.3100 - val_wine_type_loss: 0.0257 - val_wine_quality_root_mean_squared_error: 0.5568 - val_wine_type_accuracy: 0.9949\n",
            "Epoch 140/180\n",
            "99/99 [==============================] - 0s 2ms/step - loss: 0.2824 - wine_quality_loss: 0.2637 - wine_type_loss: 0.0187 - wine_quality_root_mean_squared_error: 0.5135 - wine_type_accuracy: 0.9962 - val_loss: 0.3360 - val_wine_quality_loss: 0.3106 - val_wine_type_loss: 0.0255 - val_wine_quality_root_mean_squared_error: 0.5573 - val_wine_type_accuracy: 0.9949\n",
            "Epoch 141/180\n",
            "99/99 [==============================] - 0s 3ms/step - loss: 0.2825 - wine_quality_loss: 0.2639 - wine_type_loss: 0.0186 - wine_quality_root_mean_squared_error: 0.5137 - wine_type_accuracy: 0.9962 - val_loss: 0.3341 - val_wine_quality_loss: 0.3087 - val_wine_type_loss: 0.0254 - val_wine_quality_root_mean_squared_error: 0.5556 - val_wine_type_accuracy: 0.9949\n",
            "Epoch 142/180\n",
            "99/99 [==============================] - 0s 3ms/step - loss: 0.2811 - wine_quality_loss: 0.2626 - wine_type_loss: 0.0185 - wine_quality_root_mean_squared_error: 0.5124 - wine_type_accuracy: 0.9962 - val_loss: 0.3391 - val_wine_quality_loss: 0.3136 - val_wine_type_loss: 0.0255 - val_wine_quality_root_mean_squared_error: 0.5600 - val_wine_type_accuracy: 0.9949\n",
            "Epoch 143/180\n",
            "99/99 [==============================] - 0s 3ms/step - loss: 0.2807 - wine_quality_loss: 0.2622 - wine_type_loss: 0.0185 - wine_quality_root_mean_squared_error: 0.5121 - wine_type_accuracy: 0.9962 - val_loss: 0.3365 - val_wine_quality_loss: 0.3113 - val_wine_type_loss: 0.0252 - val_wine_quality_root_mean_squared_error: 0.5579 - val_wine_type_accuracy: 0.9949\n",
            "Epoch 144/180\n",
            "99/99 [==============================] - 0s 3ms/step - loss: 0.2811 - wine_quality_loss: 0.2626 - wine_type_loss: 0.0184 - wine_quality_root_mean_squared_error: 0.5124 - wine_type_accuracy: 0.9962 - val_loss: 0.3367 - val_wine_quality_loss: 0.3114 - val_wine_type_loss: 0.0252 - val_wine_quality_root_mean_squared_error: 0.5581 - val_wine_type_accuracy: 0.9949\n",
            "Epoch 145/180\n",
            "99/99 [==============================] - 0s 3ms/step - loss: 0.2804 - wine_quality_loss: 0.2621 - wine_type_loss: 0.0183 - wine_quality_root_mean_squared_error: 0.5120 - wine_type_accuracy: 0.9962 - val_loss: 0.3393 - val_wine_quality_loss: 0.3139 - val_wine_type_loss: 0.0254 - val_wine_quality_root_mean_squared_error: 0.5602 - val_wine_type_accuracy: 0.9949\n",
            "Epoch 146/180\n",
            "99/99 [==============================] - 0s 3ms/step - loss: 0.2788 - wine_quality_loss: 0.2606 - wine_type_loss: 0.0183 - wine_quality_root_mean_squared_error: 0.5104 - wine_type_accuracy: 0.9962 - val_loss: 0.3336 - val_wine_quality_loss: 0.3084 - val_wine_type_loss: 0.0252 - val_wine_quality_root_mean_squared_error: 0.5554 - val_wine_type_accuracy: 0.9949\n",
            "Epoch 147/180\n",
            "99/99 [==============================] - 0s 2ms/step - loss: 0.2793 - wine_quality_loss: 0.2611 - wine_type_loss: 0.0182 - wine_quality_root_mean_squared_error: 0.5110 - wine_type_accuracy: 0.9962 - val_loss: 0.3449 - val_wine_quality_loss: 0.3195 - val_wine_type_loss: 0.0254 - val_wine_quality_root_mean_squared_error: 0.5653 - val_wine_type_accuracy: 0.9949\n",
            "Epoch 148/180\n",
            "99/99 [==============================] - 0s 3ms/step - loss: 0.2784 - wine_quality_loss: 0.2603 - wine_type_loss: 0.0181 - wine_quality_root_mean_squared_error: 0.5102 - wine_type_accuracy: 0.9962 - val_loss: 0.3372 - val_wine_quality_loss: 0.3120 - val_wine_type_loss: 0.0252 - val_wine_quality_root_mean_squared_error: 0.5586 - val_wine_type_accuracy: 0.9949\n",
            "Epoch 149/180\n",
            "99/99 [==============================] - 0s 3ms/step - loss: 0.2787 - wine_quality_loss: 0.2606 - wine_type_loss: 0.0181 - wine_quality_root_mean_squared_error: 0.5105 - wine_type_accuracy: 0.9965 - val_loss: 0.3395 - val_wine_quality_loss: 0.3143 - val_wine_type_loss: 0.0252 - val_wine_quality_root_mean_squared_error: 0.5607 - val_wine_type_accuracy: 0.9949\n",
            "Epoch 150/180\n",
            "99/99 [==============================] - 0s 3ms/step - loss: 0.2781 - wine_quality_loss: 0.2601 - wine_type_loss: 0.0180 - wine_quality_root_mean_squared_error: 0.5100 - wine_type_accuracy: 0.9965 - val_loss: 0.3371 - val_wine_quality_loss: 0.3119 - val_wine_type_loss: 0.0252 - val_wine_quality_root_mean_squared_error: 0.5585 - val_wine_type_accuracy: 0.9949\n",
            "Epoch 151/180\n",
            "99/99 [==============================] - 0s 3ms/step - loss: 0.2784 - wine_quality_loss: 0.2604 - wine_type_loss: 0.0179 - wine_quality_root_mean_squared_error: 0.5103 - wine_type_accuracy: 0.9965 - val_loss: 0.3351 - val_wine_quality_loss: 0.3099 - val_wine_type_loss: 0.0253 - val_wine_quality_root_mean_squared_error: 0.5567 - val_wine_type_accuracy: 0.9949\n",
            "Epoch 152/180\n",
            "99/99 [==============================] - 0s 3ms/step - loss: 0.2773 - wine_quality_loss: 0.2593 - wine_type_loss: 0.0179 - wine_quality_root_mean_squared_error: 0.5093 - wine_type_accuracy: 0.9962 - val_loss: 0.3373 - val_wine_quality_loss: 0.3123 - val_wine_type_loss: 0.0250 - val_wine_quality_root_mean_squared_error: 0.5588 - val_wine_type_accuracy: 0.9949\n",
            "Epoch 153/180\n",
            "99/99 [==============================] - 0s 3ms/step - loss: 0.2764 - wine_quality_loss: 0.2586 - wine_type_loss: 0.0178 - wine_quality_root_mean_squared_error: 0.5085 - wine_type_accuracy: 0.9965 - val_loss: 0.3324 - val_wine_quality_loss: 0.3074 - val_wine_type_loss: 0.0250 - val_wine_quality_root_mean_squared_error: 0.5544 - val_wine_type_accuracy: 0.9949\n",
            "Epoch 154/180\n",
            "99/99 [==============================] - 0s 3ms/step - loss: 0.2767 - wine_quality_loss: 0.2590 - wine_type_loss: 0.0177 - wine_quality_root_mean_squared_error: 0.5089 - wine_type_accuracy: 0.9965 - val_loss: 0.3401 - val_wine_quality_loss: 0.3149 - val_wine_type_loss: 0.0252 - val_wine_quality_root_mean_squared_error: 0.5612 - val_wine_type_accuracy: 0.9949\n",
            "Epoch 155/180\n",
            "99/99 [==============================] - 0s 3ms/step - loss: 0.2761 - wine_quality_loss: 0.2584 - wine_type_loss: 0.0177 - wine_quality_root_mean_squared_error: 0.5083 - wine_type_accuracy: 0.9965 - val_loss: 0.3403 - val_wine_quality_loss: 0.3151 - val_wine_type_loss: 0.0251 - val_wine_quality_root_mean_squared_error: 0.5614 - val_wine_type_accuracy: 0.9949\n",
            "Epoch 156/180\n",
            "99/99 [==============================] - 0s 3ms/step - loss: 0.2749 - wine_quality_loss: 0.2573 - wine_type_loss: 0.0176 - wine_quality_root_mean_squared_error: 0.5072 - wine_type_accuracy: 0.9965 - val_loss: 0.3350 - val_wine_quality_loss: 0.3099 - val_wine_type_loss: 0.0251 - val_wine_quality_root_mean_squared_error: 0.5567 - val_wine_type_accuracy: 0.9949\n",
            "Epoch 157/180\n",
            "99/99 [==============================] - 0s 3ms/step - loss: 0.2750 - wine_quality_loss: 0.2574 - wine_type_loss: 0.0176 - wine_quality_root_mean_squared_error: 0.5073 - wine_type_accuracy: 0.9965 - val_loss: 0.3356 - val_wine_quality_loss: 0.3106 - val_wine_type_loss: 0.0251 - val_wine_quality_root_mean_squared_error: 0.5573 - val_wine_type_accuracy: 0.9949\n",
            "Epoch 158/180\n",
            "99/99 [==============================] - 0s 3ms/step - loss: 0.2743 - wine_quality_loss: 0.2567 - wine_type_loss: 0.0175 - wine_quality_root_mean_squared_error: 0.5067 - wine_type_accuracy: 0.9965 - val_loss: 0.3363 - val_wine_quality_loss: 0.3113 - val_wine_type_loss: 0.0249 - val_wine_quality_root_mean_squared_error: 0.5580 - val_wine_type_accuracy: 0.9949\n",
            "Epoch 159/180\n",
            "99/99 [==============================] - 0s 3ms/step - loss: 0.2740 - wine_quality_loss: 0.2565 - wine_type_loss: 0.0175 - wine_quality_root_mean_squared_error: 0.5064 - wine_type_accuracy: 0.9965 - val_loss: 0.3370 - val_wine_quality_loss: 0.3121 - val_wine_type_loss: 0.0250 - val_wine_quality_root_mean_squared_error: 0.5586 - val_wine_type_accuracy: 0.9949\n",
            "Epoch 160/180\n",
            "99/99 [==============================] - 0s 3ms/step - loss: 0.2734 - wine_quality_loss: 0.2560 - wine_type_loss: 0.0174 - wine_quality_root_mean_squared_error: 0.5060 - wine_type_accuracy: 0.9965 - val_loss: 0.3399 - val_wine_quality_loss: 0.3150 - val_wine_type_loss: 0.0249 - val_wine_quality_root_mean_squared_error: 0.5612 - val_wine_type_accuracy: 0.9949\n",
            "Epoch 161/180\n",
            "99/99 [==============================] - 0s 3ms/step - loss: 0.2736 - wine_quality_loss: 0.2563 - wine_type_loss: 0.0174 - wine_quality_root_mean_squared_error: 0.5062 - wine_type_accuracy: 0.9965 - val_loss: 0.3361 - val_wine_quality_loss: 0.3111 - val_wine_type_loss: 0.0250 - val_wine_quality_root_mean_squared_error: 0.5577 - val_wine_type_accuracy: 0.9949\n",
            "Epoch 162/180\n",
            "99/99 [==============================] - 0s 3ms/step - loss: 0.2725 - wine_quality_loss: 0.2553 - wine_type_loss: 0.0173 - wine_quality_root_mean_squared_error: 0.5052 - wine_type_accuracy: 0.9965 - val_loss: 0.3370 - val_wine_quality_loss: 0.3120 - val_wine_type_loss: 0.0250 - val_wine_quality_root_mean_squared_error: 0.5586 - val_wine_type_accuracy: 0.9949\n",
            "Epoch 163/180\n",
            "99/99 [==============================] - 0s 3ms/step - loss: 0.2724 - wine_quality_loss: 0.2552 - wine_type_loss: 0.0172 - wine_quality_root_mean_squared_error: 0.5051 - wine_type_accuracy: 0.9965 - val_loss: 0.3377 - val_wine_quality_loss: 0.3129 - val_wine_type_loss: 0.0248 - val_wine_quality_root_mean_squared_error: 0.5594 - val_wine_type_accuracy: 0.9949\n",
            "Epoch 164/180\n",
            "99/99 [==============================] - 0s 3ms/step - loss: 0.2726 - wine_quality_loss: 0.2554 - wine_type_loss: 0.0172 - wine_quality_root_mean_squared_error: 0.5054 - wine_type_accuracy: 0.9965 - val_loss: 0.3342 - val_wine_quality_loss: 0.3094 - val_wine_type_loss: 0.0248 - val_wine_quality_root_mean_squared_error: 0.5562 - val_wine_type_accuracy: 0.9949\n",
            "Epoch 165/180\n",
            "99/99 [==============================] - 0s 3ms/step - loss: 0.2723 - wine_quality_loss: 0.2552 - wine_type_loss: 0.0171 - wine_quality_root_mean_squared_error: 0.5052 - wine_type_accuracy: 0.9965 - val_loss: 0.3364 - val_wine_quality_loss: 0.3115 - val_wine_type_loss: 0.0249 - val_wine_quality_root_mean_squared_error: 0.5581 - val_wine_type_accuracy: 0.9949\n",
            "Epoch 166/180\n",
            "99/99 [==============================] - 0s 3ms/step - loss: 0.2717 - wine_quality_loss: 0.2547 - wine_type_loss: 0.0170 - wine_quality_root_mean_squared_error: 0.5047 - wine_type_accuracy: 0.9965 - val_loss: 0.3360 - val_wine_quality_loss: 0.3112 - val_wine_type_loss: 0.0249 - val_wine_quality_root_mean_squared_error: 0.5578 - val_wine_type_accuracy: 0.9949\n",
            "Epoch 167/180\n",
            "99/99 [==============================] - 0s 3ms/step - loss: 0.2709 - wine_quality_loss: 0.2539 - wine_type_loss: 0.0170 - wine_quality_root_mean_squared_error: 0.5039 - wine_type_accuracy: 0.9965 - val_loss: 0.3375 - val_wine_quality_loss: 0.3127 - val_wine_type_loss: 0.0247 - val_wine_quality_root_mean_squared_error: 0.5592 - val_wine_type_accuracy: 0.9949\n",
            "Epoch 168/180\n",
            "99/99 [==============================] - 0s 3ms/step - loss: 0.2701 - wine_quality_loss: 0.2531 - wine_type_loss: 0.0169 - wine_quality_root_mean_squared_error: 0.5031 - wine_type_accuracy: 0.9965 - val_loss: 0.3459 - val_wine_quality_loss: 0.3211 - val_wine_type_loss: 0.0247 - val_wine_quality_root_mean_squared_error: 0.5667 - val_wine_type_accuracy: 0.9949\n",
            "Epoch 169/180\n",
            "99/99 [==============================] - 0s 3ms/step - loss: 0.2695 - wine_quality_loss: 0.2526 - wine_type_loss: 0.0169 - wine_quality_root_mean_squared_error: 0.5025 - wine_type_accuracy: 0.9965 - val_loss: 0.3397 - val_wine_quality_loss: 0.3149 - val_wine_type_loss: 0.0248 - val_wine_quality_root_mean_squared_error: 0.5612 - val_wine_type_accuracy: 0.9949\n",
            "Epoch 170/180\n",
            "99/99 [==============================] - 0s 3ms/step - loss: 0.2700 - wine_quality_loss: 0.2532 - wine_type_loss: 0.0168 - wine_quality_root_mean_squared_error: 0.5032 - wine_type_accuracy: 0.9965 - val_loss: 0.3426 - val_wine_quality_loss: 0.3180 - val_wine_type_loss: 0.0246 - val_wine_quality_root_mean_squared_error: 0.5639 - val_wine_type_accuracy: 0.9949\n",
            "Epoch 171/180\n",
            "99/99 [==============================] - 0s 3ms/step - loss: 0.2700 - wine_quality_loss: 0.2532 - wine_type_loss: 0.0167 - wine_quality_root_mean_squared_error: 0.5032 - wine_type_accuracy: 0.9965 - val_loss: 0.3343 - val_wine_quality_loss: 0.3096 - val_wine_type_loss: 0.0247 - val_wine_quality_root_mean_squared_error: 0.5564 - val_wine_type_accuracy: 0.9949\n",
            "Epoch 172/180\n",
            "99/99 [==============================] - 0s 3ms/step - loss: 0.2689 - wine_quality_loss: 0.2522 - wine_type_loss: 0.0167 - wine_quality_root_mean_squared_error: 0.5022 - wine_type_accuracy: 0.9965 - val_loss: 0.3364 - val_wine_quality_loss: 0.3117 - val_wine_type_loss: 0.0247 - val_wine_quality_root_mean_squared_error: 0.5583 - val_wine_type_accuracy: 0.9949\n",
            "Epoch 173/180\n",
            "99/99 [==============================] - 0s 3ms/step - loss: 0.2681 - wine_quality_loss: 0.2515 - wine_type_loss: 0.0166 - wine_quality_root_mean_squared_error: 0.5015 - wine_type_accuracy: 0.9965 - val_loss: 0.3428 - val_wine_quality_loss: 0.3181 - val_wine_type_loss: 0.0247 - val_wine_quality_root_mean_squared_error: 0.5640 - val_wine_type_accuracy: 0.9949\n",
            "Epoch 174/180\n",
            "99/99 [==============================] - 0s 3ms/step - loss: 0.2687 - wine_quality_loss: 0.2522 - wine_type_loss: 0.0165 - wine_quality_root_mean_squared_error: 0.5022 - wine_type_accuracy: 0.9965 - val_loss: 0.3396 - val_wine_quality_loss: 0.3150 - val_wine_type_loss: 0.0245 - val_wine_quality_root_mean_squared_error: 0.5613 - val_wine_type_accuracy: 0.9949\n",
            "Epoch 175/180\n",
            "99/99 [==============================] - 0s 3ms/step - loss: 0.2683 - wine_quality_loss: 0.2519 - wine_type_loss: 0.0165 - wine_quality_root_mean_squared_error: 0.5019 - wine_type_accuracy: 0.9965 - val_loss: 0.3338 - val_wine_quality_loss: 0.3093 - val_wine_type_loss: 0.0245 - val_wine_quality_root_mean_squared_error: 0.5562 - val_wine_type_accuracy: 0.9949\n",
            "Epoch 176/180\n",
            "99/99 [==============================] - 0s 3ms/step - loss: 0.2671 - wine_quality_loss: 0.2507 - wine_type_loss: 0.0164 - wine_quality_root_mean_squared_error: 0.5007 - wine_type_accuracy: 0.9965 - val_loss: 0.3456 - val_wine_quality_loss: 0.3210 - val_wine_type_loss: 0.0246 - val_wine_quality_root_mean_squared_error: 0.5666 - val_wine_type_accuracy: 0.9949\n",
            "Epoch 177/180\n",
            "99/99 [==============================] - 0s 3ms/step - loss: 0.2665 - wine_quality_loss: 0.2501 - wine_type_loss: 0.0164 - wine_quality_root_mean_squared_error: 0.5001 - wine_type_accuracy: 0.9968 - val_loss: 0.3367 - val_wine_quality_loss: 0.3122 - val_wine_type_loss: 0.0245 - val_wine_quality_root_mean_squared_error: 0.5588 - val_wine_type_accuracy: 0.9949\n",
            "Epoch 178/180\n",
            "99/99 [==============================] - 0s 3ms/step - loss: 0.2666 - wine_quality_loss: 0.2503 - wine_type_loss: 0.0163 - wine_quality_root_mean_squared_error: 0.5003 - wine_type_accuracy: 0.9965 - val_loss: 0.3316 - val_wine_quality_loss: 0.3073 - val_wine_type_loss: 0.0243 - val_wine_quality_root_mean_squared_error: 0.5543 - val_wine_type_accuracy: 0.9949\n",
            "Epoch 179/180\n",
            "99/99 [==============================] - 0s 3ms/step - loss: 0.2670 - wine_quality_loss: 0.2506 - wine_type_loss: 0.0163 - wine_quality_root_mean_squared_error: 0.5006 - wine_type_accuracy: 0.9965 - val_loss: 0.3350 - val_wine_quality_loss: 0.3106 - val_wine_type_loss: 0.0245 - val_wine_quality_root_mean_squared_error: 0.5573 - val_wine_type_accuracy: 0.9949\n",
            "Epoch 180/180\n",
            "99/99 [==============================] - 0s 3ms/step - loss: 0.2664 - wine_quality_loss: 0.2502 - wine_type_loss: 0.0162 - wine_quality_root_mean_squared_error: 0.5002 - wine_type_accuracy: 0.9968 - val_loss: 0.3396 - val_wine_quality_loss: 0.3152 - val_wine_type_loss: 0.0244 - val_wine_quality_root_mean_squared_error: 0.5615 - val_wine_type_accuracy: 0.9949\n"
          ],
          "name": "stdout"
        }
      ]
    },
    {
      "cell_type": "code",
      "metadata": {
        "colab": {
          "base_uri": "https://localhost:8080/"
        },
        "id": "bPZVARAaJgsU",
        "outputId": "fc7dc0d5-7054-41ed-c358-fe485f91683c"
      },
      "source": [
        "loss, wine_quality_loss, wine_type_loss, wine_quality_rmse, wine_type_accuracy = model.evaluate(x=norm_val_X, y=val_Y)\n",
        "\n",
        "print()\n",
        "print(f'loss: {loss}')\n",
        "print(f'wine_quality_loss: {wine_quality_loss}')\n",
        "print(f'wine_type_loss: {wine_type_loss}')\n",
        "print(f'wine_quality_rmse: {wine_quality_rmse}')\n",
        "print(f'wine_type_accuracy: {wine_type_accuracy}')"
      ],
      "execution_count": 37,
      "outputs": [
        {
          "output_type": "stream",
          "text": [
            "25/25 [==============================] - 0s 1ms/step - loss: 0.3396 - wine_quality_loss: 0.3152 - wine_type_loss: 0.0244 - wine_quality_root_mean_squared_error: 0.5615 - wine_type_accuracy: 0.9949\n",
            "\n",
            "loss: 0.3396149277687073\n",
            "wine_quality_loss: 0.3152351975440979\n",
            "wine_type_loss: 0.024379748851060867\n",
            "wine_quality_rmse: 0.5614581108093262\n",
            "wine_type_accuracy: 0.9949302673339844\n"
          ],
          "name": "stdout"
        }
      ]
    },
    {
      "cell_type": "code",
      "metadata": {
        "id": "SvV6dLmpKRtG"
      },
      "source": [
        "predictions = model.predict(norm_test_X)\n",
        "quality_pred = predictions[0]\n",
        "type_pred = predictions[1]"
      ],
      "execution_count": 38,
      "outputs": []
    },
    {
      "cell_type": "code",
      "metadata": {
        "colab": {
          "base_uri": "https://localhost:8080/"
        },
        "id": "n8cXUL1TKxSg",
        "outputId": "2a466c60-64b9-4193-8acf-a23b0584e30d"
      },
      "source": [
        "print(quality_pred[0])"
      ],
      "execution_count": 39,
      "outputs": [
        {
          "output_type": "stream",
          "text": [
            "[5.6394553]\n"
          ],
          "name": "stdout"
        }
      ]
    },
    {
      "cell_type": "code",
      "metadata": {
        "colab": {
          "base_uri": "https://localhost:8080/"
        },
        "id": "zDt75moQK6uP",
        "outputId": "c60a3d69-9540-4ac6-9638-4d7780b2332e"
      },
      "source": [
        "print(type_pred[0])\n",
        "print(type_pred[944])"
      ],
      "execution_count": 40,
      "outputs": [
        {
          "output_type": "stream",
          "text": [
            "[0.00070262]\n",
            "[0.99999577]\n"
          ],
          "name": "stdout"
        }
      ]
    },
    {
      "cell_type": "code",
      "metadata": {
        "colab": {
          "base_uri": "https://localhost:8080/",
          "height": 831
        },
        "id": "FQocCu6HK8mZ",
        "outputId": "129c03fa-9789-4a29-fe0e-8f2636b405f3"
      },
      "source": [
        "def plot_metrics(metric_name, title, ylim=5):\n",
        "  plt.title(title)\n",
        "  plt.ylim(0,ylim)\n",
        "  plt.plot(history.history[metric_name], color='blue', label = metric_name)\n",
        "  plt.plot(history.history['val_' + metric_name], color='green', label = 'val_'+metric_name)\n",
        "\n",
        "def plot_confusion_matrix(y_true, y_pred, title='',labels=[0,1]):\n",
        "  cm = confusion_matrix(y_true, y_pred)\n",
        "  fig = plt.figure()\n",
        "  ax = fig.add_subplot(111)\n",
        "  cax = ax.matshow(cm)\n",
        "  plt.title('Confusion matrix of the classifier')\n",
        "  fig.colorbar(cax)\n",
        "  ax.set_xticklabels(['']+labels)\n",
        "  ax.set_yticklabels(['']+labels)\n",
        "  plt.xlabel('Predicted')\n",
        "  plt.ylabel('True')\n",
        "  fmt = 'd'\n",
        "  thresh = cm.max() / 2.\n",
        "  for i, j in itertools.product(range(cm.shape[0]), range(cm.shape[1])):\n",
        "        plt.text(j, i, format(cm[i, j], fmt),\n",
        "                horizontalalignment=\"center\",\n",
        "                color=\"black\" if cm[i, j] > thresh else \"white\")\n",
        "  plt.show()\n",
        "\n",
        "def plot_diff(y_true, y_pred, title = '' ):\n",
        "    plt.scatter(y_true, y_pred)\n",
        "    plt.title(title)\n",
        "    plt.xlabel('True Values')\n",
        "    plt.ylabel('Predictions')\n",
        "    plt.axis('equal')\n",
        "    plt.axis('square')\n",
        "    plt.plot([-100, 100], [-100, 100])\n",
        "    return plt\n",
        "\n",
        "\n",
        "plot_metrics('wine_quality_root_mean_squared_error', 'RMSE', ylim=2)\n",
        "\n",
        "plot_metrics('wine_type_loss', 'Wine Type Loss', ylim=0.2)\n",
        "plot_confusion_matrix(test_Y[1], np.round(type_pred), title='Wine Type', labels = [0, 1])\n",
        "scatter_plot = plot_diff(test_Y[0], quality_pred, title='Type')"
      ],
      "execution_count": 42,
      "outputs": [
        {
          "output_type": "display_data",
          "data": {
            "image/png": "[encoded data removed]",
            "text/plain": [
              "<Figure size 432x288 with 1 Axes>"
            ]
          },
          "metadata": {
            "tags": [],
            "needs_background": "light"
          }
        },
        {
          "output_type": "display_data",
          "data": {
            "image/png": "[encoded data removed]",
            "text/plain": [
              "<Figure size 432x288 with 2 Axes>"
            ]
          },
          "metadata": {
            "tags": [],
            "needs_background": "light"
          }
        },
        {
          "output_type": "display_data",
          "data": {
            "image/png": "[encoded data removed]",
            "text/plain": [
              "<Figure size 432x288 with 1 Axes>"
            ]
          },
          "metadata": {
            "tags": [],
            "needs_background": "light"
          }
        }
      ]
    }
  ]
}